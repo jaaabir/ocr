{
 "cells": [
  {
   "cell_type": "code",
   "execution_count": 1,
   "id": "bacb0ca2",
   "metadata": {},
   "outputs": [
    {
     "name": "stderr",
     "output_type": "stream",
     "text": [
      "c:\\Users\\jaabi\\Documents\\comudel\\ocr\\venv\\Lib\\site-packages\\tqdm\\auto.py:21: TqdmWarning: IProgress not found. Please update jupyter and ipywidgets. See https://ipywidgets.readthedocs.io/en/stable/user_install.html\n",
      "  from .autonotebook import tqdm as notebook_tqdm\n",
      "\u001b[34m\u001b[1mwandb\u001b[0m: Currently logged in as: \u001b[33mbeasted90\u001b[0m (\u001b[33mbeasted90-comudel\u001b[0m) to \u001b[32mhttps://api.wandb.ai\u001b[0m. Use \u001b[1m`wandb login --relogin`\u001b[0m to force relogin\n"
     ]
    }
   ],
   "source": [
    "from func_utils.plot_utils import show_image\n",
    "import matplotlib.pyplot as plt \n",
    "from glob import glob\n",
    "import pandas as pd \n",
    "import numpy as np \n",
    "import json\n",
    "import os \n",
    "\n",
    "import torch \n",
    "from func_utils.pydataloader import SynthDogDataset\n",
    "from func_utils.trainer_utils import *\n",
    "from encoder_decoder_model import (\n",
    "    init_dit_mbert_models_fixed, init_dit_dbart_models, \n",
    "    print_model_layer_sizes, load_pretrained_enc_dec_model, load_pretrained_iprocessor_tokenizer\n",
    "    )\n",
    "\n",
    "import wandb\n",
    "import gc\n",
    "\n",
    "torch.cuda.empty_cache()\n",
    "gc.collect()\n",
    "wandb.login()\n",
    "\n",
    "os.environ[\"CUDA_LAUNCH_BLOCKING\"] = \"1\"\n"
   ]
  },
  {
   "cell_type": "code",
   "execution_count": 2,
   "id": "b5a75c1e",
   "metadata": {},
   "outputs": [],
   "source": [
    "from encoder_decoder_model import resize_position_embeddings"
   ]
  },
  {
   "cell_type": "code",
   "execution_count": 3,
   "id": "7ed5fea2",
   "metadata": {},
   "outputs": [
    {
     "name": "stdout",
     "output_type": "stream",
     "text": [
      "The model as is is holding: 0.00 of GPU RAM\n"
     ]
    }
   ],
   "source": [
    "def get_synth_images_json_path(data_root= os.path.join('synthdog','outputs'), split='train'):\n",
    "    ipath = os.path.join(data_root, '*', split, '*.jpg')\n",
    "    json_path = os.path.join(data_root, '*', split, 'metadata.jsonl')\n",
    "\n",
    "    return glob(ipath), glob(json_path)\n",
    "\n",
    "\n",
    "torch.cuda.empty_cache()\n",
    "\n",
    "root_path = os.path.join('synthdog', 'outputs')\n",
    "train_ipath, train_json_metadata = get_synth_images_json_path(data_root=root_path, split='train')\n",
    "val_ipath, val_json_metadata = get_synth_images_json_path(data_root=root_path, split='validation')\n",
    "# test_ipath, test_json_metadata = get_synth_images_json_path(data_root=root_path, split='test')\n",
    "# processor, text_tokenizer = init_dit_dbart_models(load_model=False)\n",
    "# model.gradient_checkpointing_enable()\n",
    "\n",
    "peak_mem = torch.cuda.max_memory_allocated()\n",
    "print(f\"The model as is is holding: {peak_mem / 1024**3:.2f} of GPU RAM\")"
   ]
  },
  {
   "cell_type": "code",
   "execution_count": 4,
   "id": "918f78b9",
   "metadata": {},
   "outputs": [],
   "source": [
    "text = 'ÁGUA É ESSENCIAL PARA A COMPREENSÃO E AÇÃO; CÂNCER, ÓRGÃOS, EMOÇÃO, TÊM INFLUÊNCIA, E ÍNDICES MOSTRAM EVOLUÇÃO.'\n",
    "text2 = \"água é essencial para a compreensão e ação; câncer, órgãos, emoção, têm influência, e índices mostram evolução.\"\n",
    "\n",
    "# text_tokenizer.decode(text_tokenizer(text).input_ids)"
   ]
  },
  {
   "cell_type": "code",
   "execution_count": 5,
   "id": "e5b0d588",
   "metadata": {},
   "outputs": [],
   "source": [
    "run_name = \"dtesting\"\n",
    "# wandb.init(project=\"ocr model\", name=run_name)"
   ]
  },
  {
   "cell_type": "code",
   "execution_count": 6,
   "id": "b232dab6",
   "metadata": {},
   "outputs": [
    {
     "name": "stdout",
     "output_type": "stream",
     "text": [
      "loading pre-trained tokenizer\n",
      "Loaded the pre-trained model successfully...\n"
     ]
    }
   ],
   "source": [
    "# image_processor, text_tokenizer = init_dit_dbart_models(load_model=False)\n",
    "# decoder = \"naver-clova-ix/donut-base\"\n",
    "# ckpt_path = 'saved_models\\mydit_dbart'\n",
    "# ovmodel = load_pretrained_enc_dec_model(ckpt_path, base_encoder_model=None, \n",
    "#                                         base_decoder_model=decoder, \n",
    "#                                         lora_applied=False, \n",
    "#                                         new_tokens=['Ã', 'Ê', 'Â']\n",
    "#                                     )\n",
    "\n",
    "\n",
    "ckpt = 'saved_models\\mydit768_dbart'\n",
    "image_processor, text_tokenizer = load_pretrained_iprocessor_tokenizer(ckpt)\n",
    "ovmodel = load_pretrained_enc_dec_model(ckpt, None, None, lora_applied=False)"
   ]
  },
  {
   "cell_type": "code",
   "execution_count": 7,
   "id": "b0bee72b",
   "metadata": {},
   "outputs": [
    {
     "name": "stdout",
     "output_type": "stream",
     "text": [
      "encoder.embeddings.cls_token: 768 parameters | torch.Size([1, 1, 768])\n",
      "encoder.embeddings.position_embeddings: 1770240 parameters | torch.Size([1, 2305, 768])\n",
      "encoder.embeddings.patch_embeddings.projection.weight: 589824 parameters | torch.Size([768, 3, 16, 16])\n",
      "encoder.embeddings.patch_embeddings.projection.bias: 768 parameters | torch.Size([768])\n",
      "encoder.encoder.layer.0.lambda_1: 768 parameters | torch.Size([768])\n",
      "encoder.encoder.layer.0.lambda_2: 768 parameters | torch.Size([768])\n",
      "encoder.encoder.layer.0.attention.attention.query.weight: 589824 parameters | torch.Size([768, 768])\n",
      "encoder.encoder.layer.0.attention.attention.query.bias: 768 parameters | torch.Size([768])\n",
      "encoder.encoder.layer.0.attention.attention.key.weight: 589824 parameters | torch.Size([768, 768])\n",
      "encoder.encoder.layer.0.attention.attention.value.weight: 589824 parameters | torch.Size([768, 768])\n",
      "encoder.encoder.layer.0.attention.attention.value.bias: 768 parameters | torch.Size([768])\n",
      "encoder.encoder.layer.0.attention.output.dense.weight: 589824 parameters | torch.Size([768, 768])\n",
      "encoder.encoder.layer.0.attention.output.dense.bias: 768 parameters | torch.Size([768])\n",
      "encoder.encoder.layer.0.intermediate.dense.weight: 2359296 parameters | torch.Size([3072, 768])\n",
      "encoder.encoder.layer.0.intermediate.dense.bias: 3072 parameters | torch.Size([3072])\n",
      "encoder.encoder.layer.0.output.dense.weight: 2359296 parameters | torch.Size([768, 3072])\n",
      "encoder.encoder.layer.0.output.dense.bias: 768 parameters | torch.Size([768])\n",
      "encoder.encoder.layer.0.layernorm_before.weight: 768 parameters | torch.Size([768])\n",
      "encoder.encoder.layer.0.layernorm_before.bias: 768 parameters | torch.Size([768])\n",
      "encoder.encoder.layer.0.layernorm_after.weight: 768 parameters | torch.Size([768])\n",
      "encoder.encoder.layer.0.layernorm_after.bias: 768 parameters | torch.Size([768])\n",
      "encoder.encoder.layer.1.lambda_1: 768 parameters | torch.Size([768])\n",
      "encoder.encoder.layer.1.lambda_2: 768 parameters | torch.Size([768])\n",
      "encoder.encoder.layer.1.attention.attention.query.weight: 589824 parameters | torch.Size([768, 768])\n",
      "encoder.encoder.layer.1.attention.attention.query.bias: 768 parameters | torch.Size([768])\n",
      "encoder.encoder.layer.1.attention.attention.key.weight: 589824 parameters | torch.Size([768, 768])\n",
      "encoder.encoder.layer.1.attention.attention.value.weight: 589824 parameters | torch.Size([768, 768])\n",
      "encoder.encoder.layer.1.attention.attention.value.bias: 768 parameters | torch.Size([768])\n",
      "encoder.encoder.layer.1.attention.output.dense.weight: 589824 parameters | torch.Size([768, 768])\n",
      "encoder.encoder.layer.1.attention.output.dense.bias: 768 parameters | torch.Size([768])\n",
      "encoder.encoder.layer.1.intermediate.dense.weight: 2359296 parameters | torch.Size([3072, 768])\n",
      "encoder.encoder.layer.1.intermediate.dense.bias: 3072 parameters | torch.Size([3072])\n",
      "encoder.encoder.layer.1.output.dense.weight: 2359296 parameters | torch.Size([768, 3072])\n",
      "encoder.encoder.layer.1.output.dense.bias: 768 parameters | torch.Size([768])\n",
      "encoder.encoder.layer.1.layernorm_before.weight: 768 parameters | torch.Size([768])\n",
      "encoder.encoder.layer.1.layernorm_before.bias: 768 parameters | torch.Size([768])\n",
      "encoder.encoder.layer.1.layernorm_after.weight: 768 parameters | torch.Size([768])\n",
      "encoder.encoder.layer.1.layernorm_after.bias: 768 parameters | torch.Size([768])\n",
      "encoder.encoder.layer.2.lambda_1: 768 parameters | torch.Size([768])\n",
      "encoder.encoder.layer.2.lambda_2: 768 parameters | torch.Size([768])\n",
      "encoder.encoder.layer.2.attention.attention.query.weight: 589824 parameters | torch.Size([768, 768])\n",
      "encoder.encoder.layer.2.attention.attention.query.bias: 768 parameters | torch.Size([768])\n",
      "encoder.encoder.layer.2.attention.attention.key.weight: 589824 parameters | torch.Size([768, 768])\n",
      "encoder.encoder.layer.2.attention.attention.value.weight: 589824 parameters | torch.Size([768, 768])\n",
      "encoder.encoder.layer.2.attention.attention.value.bias: 768 parameters | torch.Size([768])\n",
      "encoder.encoder.layer.2.attention.output.dense.weight: 589824 parameters | torch.Size([768, 768])\n",
      "encoder.encoder.layer.2.attention.output.dense.bias: 768 parameters | torch.Size([768])\n",
      "encoder.encoder.layer.2.intermediate.dense.weight: 2359296 parameters | torch.Size([3072, 768])\n",
      "encoder.encoder.layer.2.intermediate.dense.bias: 3072 parameters | torch.Size([3072])\n",
      "encoder.encoder.layer.2.output.dense.weight: 2359296 parameters | torch.Size([768, 3072])\n",
      "encoder.encoder.layer.2.output.dense.bias: 768 parameters | torch.Size([768])\n",
      "encoder.encoder.layer.2.layernorm_before.weight: 768 parameters | torch.Size([768])\n",
      "encoder.encoder.layer.2.layernorm_before.bias: 768 parameters | torch.Size([768])\n",
      "encoder.encoder.layer.2.layernorm_after.weight: 768 parameters | torch.Size([768])\n",
      "encoder.encoder.layer.2.layernorm_after.bias: 768 parameters | torch.Size([768])\n",
      "encoder.encoder.layer.3.lambda_1: 768 parameters | torch.Size([768])\n",
      "encoder.encoder.layer.3.lambda_2: 768 parameters | torch.Size([768])\n",
      "encoder.encoder.layer.3.attention.attention.query.weight: 589824 parameters | torch.Size([768, 768])\n",
      "encoder.encoder.layer.3.attention.attention.query.bias: 768 parameters | torch.Size([768])\n",
      "encoder.encoder.layer.3.attention.attention.key.weight: 589824 parameters | torch.Size([768, 768])\n",
      "encoder.encoder.layer.3.attention.attention.value.weight: 589824 parameters | torch.Size([768, 768])\n",
      "encoder.encoder.layer.3.attention.attention.value.bias: 768 parameters | torch.Size([768])\n",
      "encoder.encoder.layer.3.attention.output.dense.weight: 589824 parameters | torch.Size([768, 768])\n",
      "encoder.encoder.layer.3.attention.output.dense.bias: 768 parameters | torch.Size([768])\n",
      "encoder.encoder.layer.3.intermediate.dense.weight: 2359296 parameters | torch.Size([3072, 768])\n",
      "encoder.encoder.layer.3.intermediate.dense.bias: 3072 parameters | torch.Size([3072])\n",
      "encoder.encoder.layer.3.output.dense.weight: 2359296 parameters | torch.Size([768, 3072])\n",
      "encoder.encoder.layer.3.output.dense.bias: 768 parameters | torch.Size([768])\n",
      "encoder.encoder.layer.3.layernorm_before.weight: 768 parameters | torch.Size([768])\n",
      "encoder.encoder.layer.3.layernorm_before.bias: 768 parameters | torch.Size([768])\n",
      "encoder.encoder.layer.3.layernorm_after.weight: 768 parameters | torch.Size([768])\n",
      "encoder.encoder.layer.3.layernorm_after.bias: 768 parameters | torch.Size([768])\n",
      "encoder.encoder.layer.4.lambda_1: 768 parameters | torch.Size([768])\n",
      "encoder.encoder.layer.4.lambda_2: 768 parameters | torch.Size([768])\n",
      "encoder.encoder.layer.4.attention.attention.query.weight: 589824 parameters | torch.Size([768, 768])\n",
      "encoder.encoder.layer.4.attention.attention.query.bias: 768 parameters | torch.Size([768])\n",
      "encoder.encoder.layer.4.attention.attention.key.weight: 589824 parameters | torch.Size([768, 768])\n",
      "encoder.encoder.layer.4.attention.attention.value.weight: 589824 parameters | torch.Size([768, 768])\n",
      "encoder.encoder.layer.4.attention.attention.value.bias: 768 parameters | torch.Size([768])\n",
      "encoder.encoder.layer.4.attention.output.dense.weight: 589824 parameters | torch.Size([768, 768])\n",
      "encoder.encoder.layer.4.attention.output.dense.bias: 768 parameters | torch.Size([768])\n",
      "encoder.encoder.layer.4.intermediate.dense.weight: 2359296 parameters | torch.Size([3072, 768])\n",
      "encoder.encoder.layer.4.intermediate.dense.bias: 3072 parameters | torch.Size([3072])\n",
      "encoder.encoder.layer.4.output.dense.weight: 2359296 parameters | torch.Size([768, 3072])\n",
      "encoder.encoder.layer.4.output.dense.bias: 768 parameters | torch.Size([768])\n",
      "encoder.encoder.layer.4.layernorm_before.weight: 768 parameters | torch.Size([768])\n",
      "encoder.encoder.layer.4.layernorm_before.bias: 768 parameters | torch.Size([768])\n",
      "encoder.encoder.layer.4.layernorm_after.weight: 768 parameters | torch.Size([768])\n",
      "encoder.encoder.layer.4.layernorm_after.bias: 768 parameters | torch.Size([768])\n",
      "encoder.encoder.layer.5.lambda_1: 768 parameters | torch.Size([768])\n",
      "encoder.encoder.layer.5.lambda_2: 768 parameters | torch.Size([768])\n",
      "encoder.encoder.layer.5.attention.attention.query.weight: 589824 parameters | torch.Size([768, 768])\n",
      "encoder.encoder.layer.5.attention.attention.query.bias: 768 parameters | torch.Size([768])\n",
      "encoder.encoder.layer.5.attention.attention.key.weight: 589824 parameters | torch.Size([768, 768])\n",
      "encoder.encoder.layer.5.attention.attention.value.weight: 589824 parameters | torch.Size([768, 768])\n",
      "encoder.encoder.layer.5.attention.attention.value.bias: 768 parameters | torch.Size([768])\n",
      "encoder.encoder.layer.5.attention.output.dense.weight: 589824 parameters | torch.Size([768, 768])\n",
      "encoder.encoder.layer.5.attention.output.dense.bias: 768 parameters | torch.Size([768])\n",
      "encoder.encoder.layer.5.intermediate.dense.weight: 2359296 parameters | torch.Size([3072, 768])\n",
      "encoder.encoder.layer.5.intermediate.dense.bias: 3072 parameters | torch.Size([3072])\n",
      "encoder.encoder.layer.5.output.dense.weight: 2359296 parameters | torch.Size([768, 3072])\n",
      "encoder.encoder.layer.5.output.dense.bias: 768 parameters | torch.Size([768])\n",
      "encoder.encoder.layer.5.layernorm_before.weight: 768 parameters | torch.Size([768])\n",
      "encoder.encoder.layer.5.layernorm_before.bias: 768 parameters | torch.Size([768])\n",
      "encoder.encoder.layer.5.layernorm_after.weight: 768 parameters | torch.Size([768])\n",
      "encoder.encoder.layer.5.layernorm_after.bias: 768 parameters | torch.Size([768])\n",
      "encoder.encoder.layer.6.lambda_1: 768 parameters | torch.Size([768])\n",
      "encoder.encoder.layer.6.lambda_2: 768 parameters | torch.Size([768])\n",
      "encoder.encoder.layer.6.attention.attention.query.weight: 589824 parameters | torch.Size([768, 768])\n",
      "encoder.encoder.layer.6.attention.attention.query.bias: 768 parameters | torch.Size([768])\n",
      "encoder.encoder.layer.6.attention.attention.key.weight: 589824 parameters | torch.Size([768, 768])\n",
      "encoder.encoder.layer.6.attention.attention.value.weight: 589824 parameters | torch.Size([768, 768])\n",
      "encoder.encoder.layer.6.attention.attention.value.bias: 768 parameters | torch.Size([768])\n",
      "encoder.encoder.layer.6.attention.output.dense.weight: 589824 parameters | torch.Size([768, 768])\n",
      "encoder.encoder.layer.6.attention.output.dense.bias: 768 parameters | torch.Size([768])\n",
      "encoder.encoder.layer.6.intermediate.dense.weight: 2359296 parameters | torch.Size([3072, 768])\n",
      "encoder.encoder.layer.6.intermediate.dense.bias: 3072 parameters | torch.Size([3072])\n",
      "encoder.encoder.layer.6.output.dense.weight: 2359296 parameters | torch.Size([768, 3072])\n",
      "encoder.encoder.layer.6.output.dense.bias: 768 parameters | torch.Size([768])\n",
      "encoder.encoder.layer.6.layernorm_before.weight: 768 parameters | torch.Size([768])\n",
      "encoder.encoder.layer.6.layernorm_before.bias: 768 parameters | torch.Size([768])\n",
      "encoder.encoder.layer.6.layernorm_after.weight: 768 parameters | torch.Size([768])\n",
      "encoder.encoder.layer.6.layernorm_after.bias: 768 parameters | torch.Size([768])\n",
      "encoder.encoder.layer.7.lambda_1: 768 parameters | torch.Size([768])\n",
      "encoder.encoder.layer.7.lambda_2: 768 parameters | torch.Size([768])\n",
      "encoder.encoder.layer.7.attention.attention.query.weight: 589824 parameters | torch.Size([768, 768])\n",
      "encoder.encoder.layer.7.attention.attention.query.bias: 768 parameters | torch.Size([768])\n",
      "encoder.encoder.layer.7.attention.attention.key.weight: 589824 parameters | torch.Size([768, 768])\n",
      "encoder.encoder.layer.7.attention.attention.value.weight: 589824 parameters | torch.Size([768, 768])\n",
      "encoder.encoder.layer.7.attention.attention.value.bias: 768 parameters | torch.Size([768])\n",
      "encoder.encoder.layer.7.attention.output.dense.weight: 589824 parameters | torch.Size([768, 768])\n",
      "encoder.encoder.layer.7.attention.output.dense.bias: 768 parameters | torch.Size([768])\n",
      "encoder.encoder.layer.7.intermediate.dense.weight: 2359296 parameters | torch.Size([3072, 768])\n",
      "encoder.encoder.layer.7.intermediate.dense.bias: 3072 parameters | torch.Size([3072])\n",
      "encoder.encoder.layer.7.output.dense.weight: 2359296 parameters | torch.Size([768, 3072])\n",
      "encoder.encoder.layer.7.output.dense.bias: 768 parameters | torch.Size([768])\n",
      "encoder.encoder.layer.7.layernorm_before.weight: 768 parameters | torch.Size([768])\n",
      "encoder.encoder.layer.7.layernorm_before.bias: 768 parameters | torch.Size([768])\n",
      "encoder.encoder.layer.7.layernorm_after.weight: 768 parameters | torch.Size([768])\n",
      "encoder.encoder.layer.7.layernorm_after.bias: 768 parameters | torch.Size([768])\n",
      "encoder.encoder.layer.8.lambda_1: 768 parameters | torch.Size([768])\n",
      "encoder.encoder.layer.8.lambda_2: 768 parameters | torch.Size([768])\n",
      "encoder.encoder.layer.8.attention.attention.query.weight: 589824 parameters | torch.Size([768, 768])\n",
      "encoder.encoder.layer.8.attention.attention.query.bias: 768 parameters | torch.Size([768])\n",
      "encoder.encoder.layer.8.attention.attention.key.weight: 589824 parameters | torch.Size([768, 768])\n",
      "encoder.encoder.layer.8.attention.attention.value.weight: 589824 parameters | torch.Size([768, 768])\n",
      "encoder.encoder.layer.8.attention.attention.value.bias: 768 parameters | torch.Size([768])\n",
      "encoder.encoder.layer.8.attention.output.dense.weight: 589824 parameters | torch.Size([768, 768])\n",
      "encoder.encoder.layer.8.attention.output.dense.bias: 768 parameters | torch.Size([768])\n",
      "encoder.encoder.layer.8.intermediate.dense.weight: 2359296 parameters | torch.Size([3072, 768])\n",
      "encoder.encoder.layer.8.intermediate.dense.bias: 3072 parameters | torch.Size([3072])\n",
      "encoder.encoder.layer.8.output.dense.weight: 2359296 parameters | torch.Size([768, 3072])\n",
      "encoder.encoder.layer.8.output.dense.bias: 768 parameters | torch.Size([768])\n",
      "encoder.encoder.layer.8.layernorm_before.weight: 768 parameters | torch.Size([768])\n",
      "encoder.encoder.layer.8.layernorm_before.bias: 768 parameters | torch.Size([768])\n",
      "encoder.encoder.layer.8.layernorm_after.weight: 768 parameters | torch.Size([768])\n",
      "encoder.encoder.layer.8.layernorm_after.bias: 768 parameters | torch.Size([768])\n",
      "encoder.encoder.layer.9.lambda_1: 768 parameters | torch.Size([768])\n",
      "encoder.encoder.layer.9.lambda_2: 768 parameters | torch.Size([768])\n",
      "encoder.encoder.layer.9.attention.attention.query.weight: 589824 parameters | torch.Size([768, 768])\n",
      "encoder.encoder.layer.9.attention.attention.query.bias: 768 parameters | torch.Size([768])\n",
      "encoder.encoder.layer.9.attention.attention.key.weight: 589824 parameters | torch.Size([768, 768])\n",
      "encoder.encoder.layer.9.attention.attention.value.weight: 589824 parameters | torch.Size([768, 768])\n",
      "encoder.encoder.layer.9.attention.attention.value.bias: 768 parameters | torch.Size([768])\n",
      "encoder.encoder.layer.9.attention.output.dense.weight: 589824 parameters | torch.Size([768, 768])\n",
      "encoder.encoder.layer.9.attention.output.dense.bias: 768 parameters | torch.Size([768])\n",
      "encoder.encoder.layer.9.intermediate.dense.weight: 2359296 parameters | torch.Size([3072, 768])\n",
      "encoder.encoder.layer.9.intermediate.dense.bias: 3072 parameters | torch.Size([3072])\n",
      "encoder.encoder.layer.9.output.dense.weight: 2359296 parameters | torch.Size([768, 3072])\n",
      "encoder.encoder.layer.9.output.dense.bias: 768 parameters | torch.Size([768])\n",
      "encoder.encoder.layer.9.layernorm_before.weight: 768 parameters | torch.Size([768])\n",
      "encoder.encoder.layer.9.layernorm_before.bias: 768 parameters | torch.Size([768])\n",
      "encoder.encoder.layer.9.layernorm_after.weight: 768 parameters | torch.Size([768])\n",
      "encoder.encoder.layer.9.layernorm_after.bias: 768 parameters | torch.Size([768])\n",
      "encoder.encoder.layer.10.lambda_1: 768 parameters | torch.Size([768])\n",
      "encoder.encoder.layer.10.lambda_2: 768 parameters | torch.Size([768])\n",
      "encoder.encoder.layer.10.attention.attention.query.weight: 589824 parameters | torch.Size([768, 768])\n",
      "encoder.encoder.layer.10.attention.attention.query.bias: 768 parameters | torch.Size([768])\n",
      "encoder.encoder.layer.10.attention.attention.key.weight: 589824 parameters | torch.Size([768, 768])\n",
      "encoder.encoder.layer.10.attention.attention.value.weight: 589824 parameters | torch.Size([768, 768])\n",
      "encoder.encoder.layer.10.attention.attention.value.bias: 768 parameters | torch.Size([768])\n",
      "encoder.encoder.layer.10.attention.output.dense.weight: 589824 parameters | torch.Size([768, 768])\n",
      "encoder.encoder.layer.10.attention.output.dense.bias: 768 parameters | torch.Size([768])\n",
      "encoder.encoder.layer.10.intermediate.dense.weight: 2359296 parameters | torch.Size([3072, 768])\n",
      "encoder.encoder.layer.10.intermediate.dense.bias: 3072 parameters | torch.Size([3072])\n",
      "encoder.encoder.layer.10.output.dense.weight: 2359296 parameters | torch.Size([768, 3072])\n",
      "encoder.encoder.layer.10.output.dense.bias: 768 parameters | torch.Size([768])\n",
      "encoder.encoder.layer.10.layernorm_before.weight: 768 parameters | torch.Size([768])\n",
      "encoder.encoder.layer.10.layernorm_before.bias: 768 parameters | torch.Size([768])\n",
      "encoder.encoder.layer.10.layernorm_after.weight: 768 parameters | torch.Size([768])\n",
      "encoder.encoder.layer.10.layernorm_after.bias: 768 parameters | torch.Size([768])\n",
      "encoder.encoder.layer.11.lambda_1: 768 parameters | torch.Size([768])\n",
      "encoder.encoder.layer.11.lambda_2: 768 parameters | torch.Size([768])\n",
      "encoder.encoder.layer.11.attention.attention.query.weight: 589824 parameters | torch.Size([768, 768])\n",
      "encoder.encoder.layer.11.attention.attention.query.bias: 768 parameters | torch.Size([768])\n",
      "encoder.encoder.layer.11.attention.attention.key.weight: 589824 parameters | torch.Size([768, 768])\n",
      "encoder.encoder.layer.11.attention.attention.value.weight: 589824 parameters | torch.Size([768, 768])\n",
      "encoder.encoder.layer.11.attention.attention.value.bias: 768 parameters | torch.Size([768])\n",
      "encoder.encoder.layer.11.attention.output.dense.weight: 589824 parameters | torch.Size([768, 768])\n",
      "encoder.encoder.layer.11.attention.output.dense.bias: 768 parameters | torch.Size([768])\n",
      "encoder.encoder.layer.11.intermediate.dense.weight: 2359296 parameters | torch.Size([3072, 768])\n",
      "encoder.encoder.layer.11.intermediate.dense.bias: 3072 parameters | torch.Size([3072])\n",
      "encoder.encoder.layer.11.output.dense.weight: 2359296 parameters | torch.Size([768, 3072])\n",
      "encoder.encoder.layer.11.output.dense.bias: 768 parameters | torch.Size([768])\n",
      "encoder.encoder.layer.11.layernorm_before.weight: 768 parameters | torch.Size([768])\n",
      "encoder.encoder.layer.11.layernorm_before.bias: 768 parameters | torch.Size([768])\n",
      "encoder.encoder.layer.11.layernorm_after.weight: 768 parameters | torch.Size([768])\n",
      "encoder.encoder.layer.11.layernorm_after.bias: 768 parameters | torch.Size([768])\n",
      "encoder.pooler.layernorm.weight: 768 parameters | torch.Size([768])\n",
      "encoder.pooler.layernorm.bias: 768 parameters | torch.Size([768])\n",
      "decoder.model.decoder.embed_tokens.weight: 58908672 parameters | torch.Size([57528, 1024])\n",
      "decoder.model.decoder.embed_positions.weight: 1574912 parameters | torch.Size([1538, 1024])\n",
      "decoder.model.decoder.layers.0.self_attn.k_proj.weight: 1048576 parameters | torch.Size([1024, 1024])\n",
      "decoder.model.decoder.layers.0.self_attn.k_proj.bias: 1024 parameters | torch.Size([1024])\n",
      "decoder.model.decoder.layers.0.self_attn.v_proj.weight: 1048576 parameters | torch.Size([1024, 1024])\n",
      "decoder.model.decoder.layers.0.self_attn.v_proj.bias: 1024 parameters | torch.Size([1024])\n",
      "decoder.model.decoder.layers.0.self_attn.q_proj.weight: 1048576 parameters | torch.Size([1024, 1024])\n",
      "decoder.model.decoder.layers.0.self_attn.q_proj.bias: 1024 parameters | torch.Size([1024])\n",
      "decoder.model.decoder.layers.0.self_attn.out_proj.weight: 1048576 parameters | torch.Size([1024, 1024])\n",
      "decoder.model.decoder.layers.0.self_attn.out_proj.bias: 1024 parameters | torch.Size([1024])\n",
      "decoder.model.decoder.layers.0.self_attn_layer_norm.weight: 1024 parameters | torch.Size([1024])\n",
      "decoder.model.decoder.layers.0.self_attn_layer_norm.bias: 1024 parameters | torch.Size([1024])\n",
      "decoder.model.decoder.layers.0.encoder_attn.k_proj.weight: 1048576 parameters | torch.Size([1024, 1024])\n",
      "decoder.model.decoder.layers.0.encoder_attn.k_proj.bias: 1024 parameters | torch.Size([1024])\n",
      "decoder.model.decoder.layers.0.encoder_attn.v_proj.weight: 1048576 parameters | torch.Size([1024, 1024])\n",
      "decoder.model.decoder.layers.0.encoder_attn.v_proj.bias: 1024 parameters | torch.Size([1024])\n",
      "decoder.model.decoder.layers.0.encoder_attn.q_proj.weight: 1048576 parameters | torch.Size([1024, 1024])\n",
      "decoder.model.decoder.layers.0.encoder_attn.q_proj.bias: 1024 parameters | torch.Size([1024])\n",
      "decoder.model.decoder.layers.0.encoder_attn.out_proj.weight: 1048576 parameters | torch.Size([1024, 1024])\n",
      "decoder.model.decoder.layers.0.encoder_attn.out_proj.bias: 1024 parameters | torch.Size([1024])\n",
      "decoder.model.decoder.layers.0.encoder_attn_layer_norm.weight: 1024 parameters | torch.Size([1024])\n",
      "decoder.model.decoder.layers.0.encoder_attn_layer_norm.bias: 1024 parameters | torch.Size([1024])\n",
      "decoder.model.decoder.layers.0.fc1.weight: 4194304 parameters | torch.Size([4096, 1024])\n",
      "decoder.model.decoder.layers.0.fc1.bias: 4096 parameters | torch.Size([4096])\n",
      "decoder.model.decoder.layers.0.fc2.weight: 4194304 parameters | torch.Size([1024, 4096])\n",
      "decoder.model.decoder.layers.0.fc2.bias: 1024 parameters | torch.Size([1024])\n",
      "decoder.model.decoder.layers.0.final_layer_norm.weight: 1024 parameters | torch.Size([1024])\n",
      "decoder.model.decoder.layers.0.final_layer_norm.bias: 1024 parameters | torch.Size([1024])\n",
      "decoder.model.decoder.layers.1.self_attn.k_proj.weight: 1048576 parameters | torch.Size([1024, 1024])\n",
      "decoder.model.decoder.layers.1.self_attn.k_proj.bias: 1024 parameters | torch.Size([1024])\n",
      "decoder.model.decoder.layers.1.self_attn.v_proj.weight: 1048576 parameters | torch.Size([1024, 1024])\n",
      "decoder.model.decoder.layers.1.self_attn.v_proj.bias: 1024 parameters | torch.Size([1024])\n",
      "decoder.model.decoder.layers.1.self_attn.q_proj.weight: 1048576 parameters | torch.Size([1024, 1024])\n",
      "decoder.model.decoder.layers.1.self_attn.q_proj.bias: 1024 parameters | torch.Size([1024])\n",
      "decoder.model.decoder.layers.1.self_attn.out_proj.weight: 1048576 parameters | torch.Size([1024, 1024])\n",
      "decoder.model.decoder.layers.1.self_attn.out_proj.bias: 1024 parameters | torch.Size([1024])\n",
      "decoder.model.decoder.layers.1.self_attn_layer_norm.weight: 1024 parameters | torch.Size([1024])\n",
      "decoder.model.decoder.layers.1.self_attn_layer_norm.bias: 1024 parameters | torch.Size([1024])\n",
      "decoder.model.decoder.layers.1.encoder_attn.k_proj.weight: 1048576 parameters | torch.Size([1024, 1024])\n",
      "decoder.model.decoder.layers.1.encoder_attn.k_proj.bias: 1024 parameters | torch.Size([1024])\n",
      "decoder.model.decoder.layers.1.encoder_attn.v_proj.weight: 1048576 parameters | torch.Size([1024, 1024])\n",
      "decoder.model.decoder.layers.1.encoder_attn.v_proj.bias: 1024 parameters | torch.Size([1024])\n",
      "decoder.model.decoder.layers.1.encoder_attn.q_proj.weight: 1048576 parameters | torch.Size([1024, 1024])\n",
      "decoder.model.decoder.layers.1.encoder_attn.q_proj.bias: 1024 parameters | torch.Size([1024])\n",
      "decoder.model.decoder.layers.1.encoder_attn.out_proj.weight: 1048576 parameters | torch.Size([1024, 1024])\n",
      "decoder.model.decoder.layers.1.encoder_attn.out_proj.bias: 1024 parameters | torch.Size([1024])\n",
      "decoder.model.decoder.layers.1.encoder_attn_layer_norm.weight: 1024 parameters | torch.Size([1024])\n",
      "decoder.model.decoder.layers.1.encoder_attn_layer_norm.bias: 1024 parameters | torch.Size([1024])\n",
      "decoder.model.decoder.layers.1.fc1.weight: 4194304 parameters | torch.Size([4096, 1024])\n",
      "decoder.model.decoder.layers.1.fc1.bias: 4096 parameters | torch.Size([4096])\n",
      "decoder.model.decoder.layers.1.fc2.weight: 4194304 parameters | torch.Size([1024, 4096])\n",
      "decoder.model.decoder.layers.1.fc2.bias: 1024 parameters | torch.Size([1024])\n",
      "decoder.model.decoder.layers.1.final_layer_norm.weight: 1024 parameters | torch.Size([1024])\n",
      "decoder.model.decoder.layers.1.final_layer_norm.bias: 1024 parameters | torch.Size([1024])\n",
      "decoder.model.decoder.layers.2.self_attn.k_proj.weight: 1048576 parameters | torch.Size([1024, 1024])\n",
      "decoder.model.decoder.layers.2.self_attn.k_proj.bias: 1024 parameters | torch.Size([1024])\n",
      "decoder.model.decoder.layers.2.self_attn.v_proj.weight: 1048576 parameters | torch.Size([1024, 1024])\n",
      "decoder.model.decoder.layers.2.self_attn.v_proj.bias: 1024 parameters | torch.Size([1024])\n",
      "decoder.model.decoder.layers.2.self_attn.q_proj.weight: 1048576 parameters | torch.Size([1024, 1024])\n",
      "decoder.model.decoder.layers.2.self_attn.q_proj.bias: 1024 parameters | torch.Size([1024])\n",
      "decoder.model.decoder.layers.2.self_attn.out_proj.weight: 1048576 parameters | torch.Size([1024, 1024])\n",
      "decoder.model.decoder.layers.2.self_attn.out_proj.bias: 1024 parameters | torch.Size([1024])\n",
      "decoder.model.decoder.layers.2.self_attn_layer_norm.weight: 1024 parameters | torch.Size([1024])\n",
      "decoder.model.decoder.layers.2.self_attn_layer_norm.bias: 1024 parameters | torch.Size([1024])\n",
      "decoder.model.decoder.layers.2.encoder_attn.k_proj.weight: 1048576 parameters | torch.Size([1024, 1024])\n",
      "decoder.model.decoder.layers.2.encoder_attn.k_proj.bias: 1024 parameters | torch.Size([1024])\n",
      "decoder.model.decoder.layers.2.encoder_attn.v_proj.weight: 1048576 parameters | torch.Size([1024, 1024])\n",
      "decoder.model.decoder.layers.2.encoder_attn.v_proj.bias: 1024 parameters | torch.Size([1024])\n",
      "decoder.model.decoder.layers.2.encoder_attn.q_proj.weight: 1048576 parameters | torch.Size([1024, 1024])\n",
      "decoder.model.decoder.layers.2.encoder_attn.q_proj.bias: 1024 parameters | torch.Size([1024])\n",
      "decoder.model.decoder.layers.2.encoder_attn.out_proj.weight: 1048576 parameters | torch.Size([1024, 1024])\n",
      "decoder.model.decoder.layers.2.encoder_attn.out_proj.bias: 1024 parameters | torch.Size([1024])\n",
      "decoder.model.decoder.layers.2.encoder_attn_layer_norm.weight: 1024 parameters | torch.Size([1024])\n",
      "decoder.model.decoder.layers.2.encoder_attn_layer_norm.bias: 1024 parameters | torch.Size([1024])\n",
      "decoder.model.decoder.layers.2.fc1.weight: 4194304 parameters | torch.Size([4096, 1024])\n",
      "decoder.model.decoder.layers.2.fc1.bias: 4096 parameters | torch.Size([4096])\n",
      "decoder.model.decoder.layers.2.fc2.weight: 4194304 parameters | torch.Size([1024, 4096])\n",
      "decoder.model.decoder.layers.2.fc2.bias: 1024 parameters | torch.Size([1024])\n",
      "decoder.model.decoder.layers.2.final_layer_norm.weight: 1024 parameters | torch.Size([1024])\n",
      "decoder.model.decoder.layers.2.final_layer_norm.bias: 1024 parameters | torch.Size([1024])\n",
      "decoder.model.decoder.layers.3.self_attn.k_proj.weight: 1048576 parameters | torch.Size([1024, 1024])\n",
      "decoder.model.decoder.layers.3.self_attn.k_proj.bias: 1024 parameters | torch.Size([1024])\n",
      "decoder.model.decoder.layers.3.self_attn.v_proj.weight: 1048576 parameters | torch.Size([1024, 1024])\n",
      "decoder.model.decoder.layers.3.self_attn.v_proj.bias: 1024 parameters | torch.Size([1024])\n",
      "decoder.model.decoder.layers.3.self_attn.q_proj.weight: 1048576 parameters | torch.Size([1024, 1024])\n",
      "decoder.model.decoder.layers.3.self_attn.q_proj.bias: 1024 parameters | torch.Size([1024])\n",
      "decoder.model.decoder.layers.3.self_attn.out_proj.weight: 1048576 parameters | torch.Size([1024, 1024])\n",
      "decoder.model.decoder.layers.3.self_attn.out_proj.bias: 1024 parameters | torch.Size([1024])\n",
      "decoder.model.decoder.layers.3.self_attn_layer_norm.weight: 1024 parameters | torch.Size([1024])\n",
      "decoder.model.decoder.layers.3.self_attn_layer_norm.bias: 1024 parameters | torch.Size([1024])\n",
      "decoder.model.decoder.layers.3.encoder_attn.k_proj.weight: 1048576 parameters | torch.Size([1024, 1024])\n",
      "decoder.model.decoder.layers.3.encoder_attn.k_proj.bias: 1024 parameters | torch.Size([1024])\n",
      "decoder.model.decoder.layers.3.encoder_attn.v_proj.weight: 1048576 parameters | torch.Size([1024, 1024])\n",
      "decoder.model.decoder.layers.3.encoder_attn.v_proj.bias: 1024 parameters | torch.Size([1024])\n",
      "decoder.model.decoder.layers.3.encoder_attn.q_proj.weight: 1048576 parameters | torch.Size([1024, 1024])\n",
      "decoder.model.decoder.layers.3.encoder_attn.q_proj.bias: 1024 parameters | torch.Size([1024])\n",
      "decoder.model.decoder.layers.3.encoder_attn.out_proj.weight: 1048576 parameters | torch.Size([1024, 1024])\n",
      "decoder.model.decoder.layers.3.encoder_attn.out_proj.bias: 1024 parameters | torch.Size([1024])\n",
      "decoder.model.decoder.layers.3.encoder_attn_layer_norm.weight: 1024 parameters | torch.Size([1024])\n",
      "decoder.model.decoder.layers.3.encoder_attn_layer_norm.bias: 1024 parameters | torch.Size([1024])\n",
      "decoder.model.decoder.layers.3.fc1.weight: 4194304 parameters | torch.Size([4096, 1024])\n",
      "decoder.model.decoder.layers.3.fc1.bias: 4096 parameters | torch.Size([4096])\n",
      "decoder.model.decoder.layers.3.fc2.weight: 4194304 parameters | torch.Size([1024, 4096])\n",
      "decoder.model.decoder.layers.3.fc2.bias: 1024 parameters | torch.Size([1024])\n",
      "decoder.model.decoder.layers.3.final_layer_norm.weight: 1024 parameters | torch.Size([1024])\n",
      "decoder.model.decoder.layers.3.final_layer_norm.bias: 1024 parameters | torch.Size([1024])\n",
      "decoder.model.decoder.layernorm_embedding.weight: 1024 parameters | torch.Size([1024])\n",
      "decoder.model.decoder.layernorm_embedding.bias: 1024 parameters | torch.Size([1024])\n",
      "decoder.model.decoder.layer_norm.weight: 1024 parameters | torch.Size([1024])\n",
      "decoder.model.decoder.layer_norm.bias: 1024 parameters | torch.Size([1024])\n",
      "enc_to_dec_proj.weight: 786432 parameters | torch.Size([1024, 768])\n",
      "enc_to_dec_proj.bias: 1024 parameters | torch.Size([1024])\n"
     ]
    }
   ],
   "source": [
    "print_model_layer_sizes(ovmodel)"
   ]
  },
  {
   "cell_type": "code",
   "execution_count": 8,
   "id": "30a9d448",
   "metadata": {},
   "outputs": [
    {
     "name": "stdout",
     "output_type": "stream",
     "text": [
      "['synthdog\\\\outputs\\\\SynthDoG-en\\\\train\\\\image_0.jpg', 'synthdog\\\\outputs\\\\SynthDoG-en\\\\train\\\\image_1.jpg']\n",
      "Sampled lang counter: {'SynthDoG-pt': 16, 'SynthDoG-en': 16}\n",
      "Length of _.images: 32 | Length of _.json_metadata: 91\n",
      "['synthdog\\\\outputs\\\\SynthDoG-en\\\\validation\\\\image_43.jpg']\n",
      "Sampled lang counter: {'SynthDoG-en': 1}\n",
      "Length of _.images: 1 | Length of _.json_metadata: 1\n"
     ]
    }
   ],
   "source": [
    "max_token_size = 1056\n",
    "sample_size = 32\n",
    "train_synthdataset = SynthDogDataset(train_ipath, train_json_metadata, image_feature_extractor=image_processor, \n",
    "                                     text_tokenizer=text_tokenizer, max_token_size=max_token_size, sample_size=sample_size)\n",
    "val_synthdataset = SynthDogDataset(val_ipath, val_json_metadata, image_feature_extractor=image_processor, \n",
    "                                   text_tokenizer=text_tokenizer, max_token_size=max_token_size, sample_size=4)"
   ]
  },
  {
   "cell_type": "code",
   "execution_count": 9,
   "id": "b3c913cc",
   "metadata": {},
   "outputs": [],
   "source": [
    "# r=32\n",
    "# alpha=r*2\n",
    "# dropout=0.3\n",
    "# target_modules = [\n",
    "#         \"q_proj\", \"k_proj\", \"v_proj\", \"out_proj\",\n",
    "# ]\n",
    "# modules_to_save = None\n",
    "\n",
    "num_epochs = 20\n",
    "training_args = Seq2SeqTrainingArguments(\n",
    "        output_dir=f\"./{run_name}\",\n",
    "        per_device_train_batch_size=4,\n",
    "        per_device_eval_batch_size=4,\n",
    "        gradient_accumulation_steps=1,\n",
    "        learning_rate=5e-4,  \n",
    "        lr_scheduler_type=\"cosine\",\n",
    "        num_train_epochs=num_epochs,\n",
    "        warmup_ratio=0.1,  \n",
    "        logging_steps=10,\n",
    "        logging_strategy=\"steps\",\n",
    "        save_total_limit=3,\n",
    "        fp16=True,\n",
    "        max_grad_norm=10,  \n",
    "        weight_decay=0.01,\n",
    "        \n",
    "        dataloader_pin_memory=False,\n",
    "        predict_with_generate=True,\n",
    "        generation_max_length=max_token_size,\n",
    "        generation_num_beams=1,\n",
    "        report_to=[\"wandb\"],\n",
    "        run_name=run_name,\n",
    "        save_safetensors=False,\n",
    "\n",
    "        eval_strategy=\"epoch\",\n",
    "        save_strategy=\"epoch\",\n",
    "        metric_for_best_model=\"eval_loss\",\n",
    "        load_best_model_at_end=True,  \n",
    "        greater_is_better=False,\n",
    "        )"
   ]
  },
  {
   "cell_type": "code",
   "execution_count": 10,
   "id": "de9a1b02",
   "metadata": {},
   "outputs": [
    {
     "name": "stdout",
     "output_type": "stream",
     "text": [
      "✅ Trainable: encoder.embeddings.cls_token\n",
      "✅ Trainable: encoder.embeddings.position_embeddings\n",
      "✅ Trainable: encoder.embeddings.patch_embeddings.projection.weight\n",
      "✅ Trainable: encoder.embeddings.patch_embeddings.projection.bias\n",
      "✅ Trainable: encoder.encoder.layer.0.lambda_1\n",
      "✅ Trainable: encoder.encoder.layer.0.lambda_2\n",
      "✅ Trainable: encoder.encoder.layer.0.attention.attention.query.weight\n",
      "✅ Trainable: encoder.encoder.layer.0.attention.attention.query.bias\n",
      "✅ Trainable: encoder.encoder.layer.0.attention.attention.key.weight\n",
      "✅ Trainable: encoder.encoder.layer.0.attention.attention.value.weight\n",
      "✅ Trainable: encoder.encoder.layer.0.attention.attention.value.bias\n",
      "✅ Trainable: encoder.encoder.layer.0.attention.output.dense.weight\n",
      "✅ Trainable: encoder.encoder.layer.0.attention.output.dense.bias\n",
      "✅ Trainable: encoder.encoder.layer.0.intermediate.dense.weight\n",
      "✅ Trainable: encoder.encoder.layer.0.intermediate.dense.bias\n",
      "✅ Trainable: encoder.encoder.layer.0.output.dense.weight\n",
      "✅ Trainable: encoder.encoder.layer.0.output.dense.bias\n",
      "✅ Trainable: encoder.encoder.layer.0.layernorm_before.weight\n",
      "✅ Trainable: encoder.encoder.layer.0.layernorm_before.bias\n",
      "✅ Trainable: encoder.encoder.layer.0.layernorm_after.weight\n",
      "✅ Trainable: encoder.encoder.layer.0.layernorm_after.bias\n",
      "✅ Trainable: encoder.encoder.layer.1.lambda_1\n",
      "✅ Trainable: encoder.encoder.layer.1.lambda_2\n",
      "✅ Trainable: encoder.encoder.layer.1.attention.attention.query.weight\n",
      "✅ Trainable: encoder.encoder.layer.1.attention.attention.query.bias\n",
      "✅ Trainable: encoder.encoder.layer.1.attention.attention.key.weight\n",
      "✅ Trainable: encoder.encoder.layer.1.attention.attention.value.weight\n",
      "✅ Trainable: encoder.encoder.layer.1.attention.attention.value.bias\n",
      "✅ Trainable: encoder.encoder.layer.1.attention.output.dense.weight\n",
      "✅ Trainable: encoder.encoder.layer.1.attention.output.dense.bias\n",
      "✅ Trainable: encoder.encoder.layer.1.intermediate.dense.weight\n",
      "✅ Trainable: encoder.encoder.layer.1.intermediate.dense.bias\n",
      "✅ Trainable: encoder.encoder.layer.1.output.dense.weight\n",
      "✅ Trainable: encoder.encoder.layer.1.output.dense.bias\n",
      "✅ Trainable: encoder.encoder.layer.1.layernorm_before.weight\n",
      "✅ Trainable: encoder.encoder.layer.1.layernorm_before.bias\n",
      "✅ Trainable: encoder.encoder.layer.1.layernorm_after.weight\n",
      "✅ Trainable: encoder.encoder.layer.1.layernorm_after.bias\n",
      "✅ Trainable: encoder.encoder.layer.2.lambda_1\n",
      "✅ Trainable: encoder.encoder.layer.2.lambda_2\n",
      "✅ Trainable: encoder.encoder.layer.2.attention.attention.query.weight\n",
      "✅ Trainable: encoder.encoder.layer.2.attention.attention.query.bias\n",
      "✅ Trainable: encoder.encoder.layer.2.attention.attention.key.weight\n",
      "✅ Trainable: encoder.encoder.layer.2.attention.attention.value.weight\n",
      "✅ Trainable: encoder.encoder.layer.2.attention.attention.value.bias\n",
      "✅ Trainable: encoder.encoder.layer.2.attention.output.dense.weight\n",
      "✅ Trainable: encoder.encoder.layer.2.attention.output.dense.bias\n",
      "✅ Trainable: encoder.encoder.layer.2.intermediate.dense.weight\n",
      "✅ Trainable: encoder.encoder.layer.2.intermediate.dense.bias\n",
      "✅ Trainable: encoder.encoder.layer.2.output.dense.weight\n",
      "✅ Trainable: encoder.encoder.layer.2.output.dense.bias\n",
      "✅ Trainable: encoder.encoder.layer.2.layernorm_before.weight\n",
      "✅ Trainable: encoder.encoder.layer.2.layernorm_before.bias\n",
      "✅ Trainable: encoder.encoder.layer.2.layernorm_after.weight\n",
      "✅ Trainable: encoder.encoder.layer.2.layernorm_after.bias\n",
      "✅ Trainable: encoder.encoder.layer.3.lambda_1\n",
      "✅ Trainable: encoder.encoder.layer.3.lambda_2\n",
      "✅ Trainable: encoder.encoder.layer.3.attention.attention.query.weight\n",
      "✅ Trainable: encoder.encoder.layer.3.attention.attention.query.bias\n",
      "✅ Trainable: encoder.encoder.layer.3.attention.attention.key.weight\n",
      "✅ Trainable: encoder.encoder.layer.3.attention.attention.value.weight\n",
      "✅ Trainable: encoder.encoder.layer.3.attention.attention.value.bias\n",
      "✅ Trainable: encoder.encoder.layer.3.attention.output.dense.weight\n",
      "✅ Trainable: encoder.encoder.layer.3.attention.output.dense.bias\n",
      "✅ Trainable: encoder.encoder.layer.3.intermediate.dense.weight\n",
      "✅ Trainable: encoder.encoder.layer.3.intermediate.dense.bias\n",
      "✅ Trainable: encoder.encoder.layer.3.output.dense.weight\n",
      "✅ Trainable: encoder.encoder.layer.3.output.dense.bias\n",
      "✅ Trainable: encoder.encoder.layer.3.layernorm_before.weight\n",
      "✅ Trainable: encoder.encoder.layer.3.layernorm_before.bias\n",
      "✅ Trainable: encoder.encoder.layer.3.layernorm_after.weight\n",
      "✅ Trainable: encoder.encoder.layer.3.layernorm_after.bias\n",
      "✅ Trainable: encoder.encoder.layer.4.lambda_1\n",
      "✅ Trainable: encoder.encoder.layer.4.lambda_2\n",
      "✅ Trainable: encoder.encoder.layer.4.attention.attention.query.weight\n",
      "✅ Trainable: encoder.encoder.layer.4.attention.attention.query.bias\n",
      "✅ Trainable: encoder.encoder.layer.4.attention.attention.key.weight\n",
      "✅ Trainable: encoder.encoder.layer.4.attention.attention.value.weight\n",
      "✅ Trainable: encoder.encoder.layer.4.attention.attention.value.bias\n",
      "✅ Trainable: encoder.encoder.layer.4.attention.output.dense.weight\n",
      "✅ Trainable: encoder.encoder.layer.4.attention.output.dense.bias\n",
      "✅ Trainable: encoder.encoder.layer.4.intermediate.dense.weight\n",
      "✅ Trainable: encoder.encoder.layer.4.intermediate.dense.bias\n",
      "✅ Trainable: encoder.encoder.layer.4.output.dense.weight\n",
      "✅ Trainable: encoder.encoder.layer.4.output.dense.bias\n",
      "✅ Trainable: encoder.encoder.layer.4.layernorm_before.weight\n",
      "✅ Trainable: encoder.encoder.layer.4.layernorm_before.bias\n",
      "✅ Trainable: encoder.encoder.layer.4.layernorm_after.weight\n",
      "✅ Trainable: encoder.encoder.layer.4.layernorm_after.bias\n",
      "✅ Trainable: encoder.encoder.layer.5.lambda_1\n",
      "✅ Trainable: encoder.encoder.layer.5.lambda_2\n",
      "✅ Trainable: encoder.encoder.layer.5.attention.attention.query.weight\n",
      "✅ Trainable: encoder.encoder.layer.5.attention.attention.query.bias\n",
      "✅ Trainable: encoder.encoder.layer.5.attention.attention.key.weight\n",
      "✅ Trainable: encoder.encoder.layer.5.attention.attention.value.weight\n",
      "✅ Trainable: encoder.encoder.layer.5.attention.attention.value.bias\n",
      "✅ Trainable: encoder.encoder.layer.5.attention.output.dense.weight\n",
      "✅ Trainable: encoder.encoder.layer.5.attention.output.dense.bias\n",
      "✅ Trainable: encoder.encoder.layer.5.intermediate.dense.weight\n",
      "✅ Trainable: encoder.encoder.layer.5.intermediate.dense.bias\n",
      "✅ Trainable: encoder.encoder.layer.5.output.dense.weight\n",
      "✅ Trainable: encoder.encoder.layer.5.output.dense.bias\n",
      "✅ Trainable: encoder.encoder.layer.5.layernorm_before.weight\n",
      "✅ Trainable: encoder.encoder.layer.5.layernorm_before.bias\n",
      "✅ Trainable: encoder.encoder.layer.5.layernorm_after.weight\n",
      "✅ Trainable: encoder.encoder.layer.5.layernorm_after.bias\n",
      "✅ Trainable: encoder.encoder.layer.6.lambda_1\n",
      "✅ Trainable: encoder.encoder.layer.6.lambda_2\n",
      "✅ Trainable: encoder.encoder.layer.6.attention.attention.query.weight\n",
      "✅ Trainable: encoder.encoder.layer.6.attention.attention.query.bias\n",
      "✅ Trainable: encoder.encoder.layer.6.attention.attention.key.weight\n",
      "✅ Trainable: encoder.encoder.layer.6.attention.attention.value.weight\n",
      "✅ Trainable: encoder.encoder.layer.6.attention.attention.value.bias\n",
      "✅ Trainable: encoder.encoder.layer.6.attention.output.dense.weight\n",
      "✅ Trainable: encoder.encoder.layer.6.attention.output.dense.bias\n",
      "✅ Trainable: encoder.encoder.layer.6.intermediate.dense.weight\n",
      "✅ Trainable: encoder.encoder.layer.6.intermediate.dense.bias\n",
      "✅ Trainable: encoder.encoder.layer.6.output.dense.weight\n",
      "✅ Trainable: encoder.encoder.layer.6.output.dense.bias\n",
      "✅ Trainable: encoder.encoder.layer.6.layernorm_before.weight\n",
      "✅ Trainable: encoder.encoder.layer.6.layernorm_before.bias\n",
      "✅ Trainable: encoder.encoder.layer.6.layernorm_after.weight\n",
      "✅ Trainable: encoder.encoder.layer.6.layernorm_after.bias\n",
      "✅ Trainable: encoder.encoder.layer.7.lambda_1\n",
      "✅ Trainable: encoder.encoder.layer.7.lambda_2\n",
      "✅ Trainable: encoder.encoder.layer.7.attention.attention.query.weight\n",
      "✅ Trainable: encoder.encoder.layer.7.attention.attention.query.bias\n",
      "✅ Trainable: encoder.encoder.layer.7.attention.attention.key.weight\n",
      "✅ Trainable: encoder.encoder.layer.7.attention.attention.value.weight\n",
      "✅ Trainable: encoder.encoder.layer.7.attention.attention.value.bias\n",
      "✅ Trainable: encoder.encoder.layer.7.attention.output.dense.weight\n",
      "✅ Trainable: encoder.encoder.layer.7.attention.output.dense.bias\n",
      "✅ Trainable: encoder.encoder.layer.7.intermediate.dense.weight\n",
      "✅ Trainable: encoder.encoder.layer.7.intermediate.dense.bias\n",
      "✅ Trainable: encoder.encoder.layer.7.output.dense.weight\n",
      "✅ Trainable: encoder.encoder.layer.7.output.dense.bias\n",
      "✅ Trainable: encoder.encoder.layer.7.layernorm_before.weight\n",
      "✅ Trainable: encoder.encoder.layer.7.layernorm_before.bias\n",
      "✅ Trainable: encoder.encoder.layer.7.layernorm_after.weight\n",
      "✅ Trainable: encoder.encoder.layer.7.layernorm_after.bias\n",
      "✅ Trainable: encoder.encoder.layer.8.lambda_1\n",
      "✅ Trainable: encoder.encoder.layer.8.lambda_2\n",
      "✅ Trainable: encoder.encoder.layer.8.attention.attention.query.weight\n",
      "✅ Trainable: encoder.encoder.layer.8.attention.attention.query.bias\n",
      "✅ Trainable: encoder.encoder.layer.8.attention.attention.key.weight\n",
      "✅ Trainable: encoder.encoder.layer.8.attention.attention.value.weight\n",
      "✅ Trainable: encoder.encoder.layer.8.attention.attention.value.bias\n",
      "✅ Trainable: encoder.encoder.layer.8.attention.output.dense.weight\n",
      "✅ Trainable: encoder.encoder.layer.8.attention.output.dense.bias\n",
      "✅ Trainable: encoder.encoder.layer.8.intermediate.dense.weight\n",
      "✅ Trainable: encoder.encoder.layer.8.intermediate.dense.bias\n",
      "✅ Trainable: encoder.encoder.layer.8.output.dense.weight\n",
      "✅ Trainable: encoder.encoder.layer.8.output.dense.bias\n",
      "✅ Trainable: encoder.encoder.layer.8.layernorm_before.weight\n",
      "✅ Trainable: encoder.encoder.layer.8.layernorm_before.bias\n",
      "✅ Trainable: encoder.encoder.layer.8.layernorm_after.weight\n",
      "✅ Trainable: encoder.encoder.layer.8.layernorm_after.bias\n",
      "✅ Trainable: encoder.encoder.layer.9.lambda_1\n",
      "✅ Trainable: encoder.encoder.layer.9.lambda_2\n",
      "✅ Trainable: encoder.encoder.layer.9.attention.attention.query.weight\n",
      "✅ Trainable: encoder.encoder.layer.9.attention.attention.query.bias\n",
      "✅ Trainable: encoder.encoder.layer.9.attention.attention.key.weight\n",
      "✅ Trainable: encoder.encoder.layer.9.attention.attention.value.weight\n",
      "✅ Trainable: encoder.encoder.layer.9.attention.attention.value.bias\n",
      "✅ Trainable: encoder.encoder.layer.9.attention.output.dense.weight\n",
      "✅ Trainable: encoder.encoder.layer.9.attention.output.dense.bias\n",
      "✅ Trainable: encoder.encoder.layer.9.intermediate.dense.weight\n",
      "✅ Trainable: encoder.encoder.layer.9.intermediate.dense.bias\n",
      "✅ Trainable: encoder.encoder.layer.9.output.dense.weight\n",
      "✅ Trainable: encoder.encoder.layer.9.output.dense.bias\n",
      "✅ Trainable: encoder.encoder.layer.9.layernorm_before.weight\n",
      "✅ Trainable: encoder.encoder.layer.9.layernorm_before.bias\n",
      "✅ Trainable: encoder.encoder.layer.9.layernorm_after.weight\n",
      "✅ Trainable: encoder.encoder.layer.9.layernorm_after.bias\n",
      "✅ Trainable: encoder.encoder.layer.10.lambda_1\n",
      "✅ Trainable: encoder.encoder.layer.10.lambda_2\n",
      "✅ Trainable: encoder.encoder.layer.10.attention.attention.query.weight\n",
      "✅ Trainable: encoder.encoder.layer.10.attention.attention.query.bias\n",
      "✅ Trainable: encoder.encoder.layer.10.attention.attention.key.weight\n",
      "✅ Trainable: encoder.encoder.layer.10.attention.attention.value.weight\n",
      "✅ Trainable: encoder.encoder.layer.10.attention.attention.value.bias\n",
      "✅ Trainable: encoder.encoder.layer.10.attention.output.dense.weight\n",
      "✅ Trainable: encoder.encoder.layer.10.attention.output.dense.bias\n",
      "✅ Trainable: encoder.encoder.layer.10.intermediate.dense.weight\n",
      "✅ Trainable: encoder.encoder.layer.10.intermediate.dense.bias\n",
      "✅ Trainable: encoder.encoder.layer.10.output.dense.weight\n",
      "✅ Trainable: encoder.encoder.layer.10.output.dense.bias\n",
      "✅ Trainable: encoder.encoder.layer.10.layernorm_before.weight\n",
      "✅ Trainable: encoder.encoder.layer.10.layernorm_before.bias\n",
      "✅ Trainable: encoder.encoder.layer.10.layernorm_after.weight\n",
      "✅ Trainable: encoder.encoder.layer.10.layernorm_after.bias\n",
      "✅ Trainable: encoder.encoder.layer.11.lambda_1\n",
      "✅ Trainable: encoder.encoder.layer.11.lambda_2\n",
      "✅ Trainable: encoder.encoder.layer.11.attention.attention.query.weight\n",
      "✅ Trainable: encoder.encoder.layer.11.attention.attention.query.bias\n",
      "✅ Trainable: encoder.encoder.layer.11.attention.attention.key.weight\n",
      "✅ Trainable: encoder.encoder.layer.11.attention.attention.value.weight\n",
      "✅ Trainable: encoder.encoder.layer.11.attention.attention.value.bias\n",
      "✅ Trainable: encoder.encoder.layer.11.attention.output.dense.weight\n",
      "✅ Trainable: encoder.encoder.layer.11.attention.output.dense.bias\n",
      "✅ Trainable: encoder.encoder.layer.11.intermediate.dense.weight\n",
      "✅ Trainable: encoder.encoder.layer.11.intermediate.dense.bias\n",
      "✅ Trainable: encoder.encoder.layer.11.output.dense.weight\n",
      "✅ Trainable: encoder.encoder.layer.11.output.dense.bias\n",
      "✅ Trainable: encoder.encoder.layer.11.layernorm_before.weight\n",
      "✅ Trainable: encoder.encoder.layer.11.layernorm_before.bias\n",
      "✅ Trainable: encoder.encoder.layer.11.layernorm_after.weight\n",
      "✅ Trainable: encoder.encoder.layer.11.layernorm_after.bias\n",
      "✅ Trainable: encoder.pooler.layernorm.weight\n",
      "✅ Trainable: encoder.pooler.layernorm.bias\n",
      "✅ Trainable: decoder.model.decoder.embed_tokens.weight\n",
      "✅ Trainable: decoder.model.decoder.embed_positions.weight\n",
      "✅ Trainable: decoder.model.decoder.layers.0.self_attn.k_proj.weight\n",
      "✅ Trainable: decoder.model.decoder.layers.0.self_attn.k_proj.bias\n",
      "✅ Trainable: decoder.model.decoder.layers.0.self_attn.v_proj.weight\n",
      "✅ Trainable: decoder.model.decoder.layers.0.self_attn.v_proj.bias\n",
      "✅ Trainable: decoder.model.decoder.layers.0.self_attn.q_proj.weight\n",
      "✅ Trainable: decoder.model.decoder.layers.0.self_attn.q_proj.bias\n",
      "✅ Trainable: decoder.model.decoder.layers.0.self_attn.out_proj.weight\n",
      "✅ Trainable: decoder.model.decoder.layers.0.self_attn.out_proj.bias\n",
      "✅ Trainable: decoder.model.decoder.layers.0.self_attn_layer_norm.weight\n",
      "✅ Trainable: decoder.model.decoder.layers.0.self_attn_layer_norm.bias\n",
      "✅ Trainable: decoder.model.decoder.layers.0.encoder_attn.k_proj.weight\n",
      "✅ Trainable: decoder.model.decoder.layers.0.encoder_attn.k_proj.bias\n",
      "✅ Trainable: decoder.model.decoder.layers.0.encoder_attn.v_proj.weight\n",
      "✅ Trainable: decoder.model.decoder.layers.0.encoder_attn.v_proj.bias\n",
      "✅ Trainable: decoder.model.decoder.layers.0.encoder_attn.q_proj.weight\n",
      "✅ Trainable: decoder.model.decoder.layers.0.encoder_attn.q_proj.bias\n",
      "✅ Trainable: decoder.model.decoder.layers.0.encoder_attn.out_proj.weight\n",
      "✅ Trainable: decoder.model.decoder.layers.0.encoder_attn.out_proj.bias\n",
      "✅ Trainable: decoder.model.decoder.layers.0.encoder_attn_layer_norm.weight\n",
      "✅ Trainable: decoder.model.decoder.layers.0.encoder_attn_layer_norm.bias\n",
      "✅ Trainable: decoder.model.decoder.layers.0.fc1.weight\n",
      "✅ Trainable: decoder.model.decoder.layers.0.fc1.bias\n",
      "✅ Trainable: decoder.model.decoder.layers.0.fc2.weight\n",
      "✅ Trainable: decoder.model.decoder.layers.0.fc2.bias\n",
      "✅ Trainable: decoder.model.decoder.layers.0.final_layer_norm.weight\n",
      "✅ Trainable: decoder.model.decoder.layers.0.final_layer_norm.bias\n",
      "✅ Trainable: decoder.model.decoder.layers.1.self_attn.k_proj.weight\n",
      "✅ Trainable: decoder.model.decoder.layers.1.self_attn.k_proj.bias\n",
      "✅ Trainable: decoder.model.decoder.layers.1.self_attn.v_proj.weight\n",
      "✅ Trainable: decoder.model.decoder.layers.1.self_attn.v_proj.bias\n",
      "✅ Trainable: decoder.model.decoder.layers.1.self_attn.q_proj.weight\n",
      "✅ Trainable: decoder.model.decoder.layers.1.self_attn.q_proj.bias\n",
      "✅ Trainable: decoder.model.decoder.layers.1.self_attn.out_proj.weight\n",
      "✅ Trainable: decoder.model.decoder.layers.1.self_attn.out_proj.bias\n",
      "✅ Trainable: decoder.model.decoder.layers.1.self_attn_layer_norm.weight\n",
      "✅ Trainable: decoder.model.decoder.layers.1.self_attn_layer_norm.bias\n",
      "✅ Trainable: decoder.model.decoder.layers.1.encoder_attn.k_proj.weight\n",
      "✅ Trainable: decoder.model.decoder.layers.1.encoder_attn.k_proj.bias\n",
      "✅ Trainable: decoder.model.decoder.layers.1.encoder_attn.v_proj.weight\n",
      "✅ Trainable: decoder.model.decoder.layers.1.encoder_attn.v_proj.bias\n",
      "✅ Trainable: decoder.model.decoder.layers.1.encoder_attn.q_proj.weight\n",
      "✅ Trainable: decoder.model.decoder.layers.1.encoder_attn.q_proj.bias\n",
      "✅ Trainable: decoder.model.decoder.layers.1.encoder_attn.out_proj.weight\n",
      "✅ Trainable: decoder.model.decoder.layers.1.encoder_attn.out_proj.bias\n",
      "✅ Trainable: decoder.model.decoder.layers.1.encoder_attn_layer_norm.weight\n",
      "✅ Trainable: decoder.model.decoder.layers.1.encoder_attn_layer_norm.bias\n",
      "✅ Trainable: decoder.model.decoder.layers.1.fc1.weight\n",
      "✅ Trainable: decoder.model.decoder.layers.1.fc1.bias\n",
      "✅ Trainable: decoder.model.decoder.layers.1.fc2.weight\n",
      "✅ Trainable: decoder.model.decoder.layers.1.fc2.bias\n",
      "✅ Trainable: decoder.model.decoder.layers.1.final_layer_norm.weight\n",
      "✅ Trainable: decoder.model.decoder.layers.1.final_layer_norm.bias\n",
      "✅ Trainable: decoder.model.decoder.layers.2.self_attn.k_proj.weight\n",
      "✅ Trainable: decoder.model.decoder.layers.2.self_attn.k_proj.bias\n",
      "✅ Trainable: decoder.model.decoder.layers.2.self_attn.v_proj.weight\n",
      "✅ Trainable: decoder.model.decoder.layers.2.self_attn.v_proj.bias\n",
      "✅ Trainable: decoder.model.decoder.layers.2.self_attn.q_proj.weight\n",
      "✅ Trainable: decoder.model.decoder.layers.2.self_attn.q_proj.bias\n",
      "✅ Trainable: decoder.model.decoder.layers.2.self_attn.out_proj.weight\n",
      "✅ Trainable: decoder.model.decoder.layers.2.self_attn.out_proj.bias\n",
      "✅ Trainable: decoder.model.decoder.layers.2.self_attn_layer_norm.weight\n",
      "✅ Trainable: decoder.model.decoder.layers.2.self_attn_layer_norm.bias\n",
      "✅ Trainable: decoder.model.decoder.layers.2.encoder_attn.k_proj.weight\n",
      "✅ Trainable: decoder.model.decoder.layers.2.encoder_attn.k_proj.bias\n",
      "✅ Trainable: decoder.model.decoder.layers.2.encoder_attn.v_proj.weight\n",
      "✅ Trainable: decoder.model.decoder.layers.2.encoder_attn.v_proj.bias\n",
      "✅ Trainable: decoder.model.decoder.layers.2.encoder_attn.q_proj.weight\n",
      "✅ Trainable: decoder.model.decoder.layers.2.encoder_attn.q_proj.bias\n",
      "✅ Trainable: decoder.model.decoder.layers.2.encoder_attn.out_proj.weight\n",
      "✅ Trainable: decoder.model.decoder.layers.2.encoder_attn.out_proj.bias\n",
      "✅ Trainable: decoder.model.decoder.layers.2.encoder_attn_layer_norm.weight\n",
      "✅ Trainable: decoder.model.decoder.layers.2.encoder_attn_layer_norm.bias\n",
      "✅ Trainable: decoder.model.decoder.layers.2.fc1.weight\n",
      "✅ Trainable: decoder.model.decoder.layers.2.fc1.bias\n",
      "✅ Trainable: decoder.model.decoder.layers.2.fc2.weight\n",
      "✅ Trainable: decoder.model.decoder.layers.2.fc2.bias\n",
      "✅ Trainable: decoder.model.decoder.layers.2.final_layer_norm.weight\n",
      "✅ Trainable: decoder.model.decoder.layers.2.final_layer_norm.bias\n",
      "✅ Trainable: decoder.model.decoder.layers.3.self_attn.k_proj.weight\n",
      "✅ Trainable: decoder.model.decoder.layers.3.self_attn.k_proj.bias\n",
      "✅ Trainable: decoder.model.decoder.layers.3.self_attn.v_proj.weight\n",
      "✅ Trainable: decoder.model.decoder.layers.3.self_attn.v_proj.bias\n",
      "✅ Trainable: decoder.model.decoder.layers.3.self_attn.q_proj.weight\n",
      "✅ Trainable: decoder.model.decoder.layers.3.self_attn.q_proj.bias\n",
      "✅ Trainable: decoder.model.decoder.layers.3.self_attn.out_proj.weight\n",
      "✅ Trainable: decoder.model.decoder.layers.3.self_attn.out_proj.bias\n",
      "✅ Trainable: decoder.model.decoder.layers.3.self_attn_layer_norm.weight\n",
      "✅ Trainable: decoder.model.decoder.layers.3.self_attn_layer_norm.bias\n",
      "✅ Trainable: decoder.model.decoder.layers.3.encoder_attn.k_proj.weight\n",
      "✅ Trainable: decoder.model.decoder.layers.3.encoder_attn.k_proj.bias\n",
      "✅ Trainable: decoder.model.decoder.layers.3.encoder_attn.v_proj.weight\n",
      "✅ Trainable: decoder.model.decoder.layers.3.encoder_attn.v_proj.bias\n",
      "✅ Trainable: decoder.model.decoder.layers.3.encoder_attn.q_proj.weight\n",
      "✅ Trainable: decoder.model.decoder.layers.3.encoder_attn.q_proj.bias\n",
      "✅ Trainable: decoder.model.decoder.layers.3.encoder_attn.out_proj.weight\n",
      "✅ Trainable: decoder.model.decoder.layers.3.encoder_attn.out_proj.bias\n",
      "✅ Trainable: decoder.model.decoder.layers.3.encoder_attn_layer_norm.weight\n",
      "✅ Trainable: decoder.model.decoder.layers.3.encoder_attn_layer_norm.bias\n",
      "✅ Trainable: decoder.model.decoder.layers.3.fc1.weight\n",
      "✅ Trainable: decoder.model.decoder.layers.3.fc1.bias\n",
      "✅ Trainable: decoder.model.decoder.layers.3.fc2.weight\n",
      "✅ Trainable: decoder.model.decoder.layers.3.fc2.bias\n",
      "✅ Trainable: decoder.model.decoder.layers.3.final_layer_norm.weight\n",
      "✅ Trainable: decoder.model.decoder.layers.3.final_layer_norm.bias\n",
      "✅ Trainable: decoder.model.decoder.layernorm_embedding.weight\n",
      "✅ Trainable: decoder.model.decoder.layernorm_embedding.bias\n",
      "✅ Trainable: decoder.model.decoder.layer_norm.weight\n",
      "✅ Trainable: decoder.model.decoder.layer_norm.bias\n",
      "✅ Trainable: enc_to_dec_proj.weight\n",
      "✅ Trainable: enc_to_dec_proj.bias\n"
     ]
    }
   ],
   "source": [
    "ovmodel.config.max_length = max_token_size\n",
    "ovmodel.config.decoder.max_length = max_token_size\n",
    "# dropout = 0.2\n",
    "ovmodel.config.min_length = 1\n",
    "ovmodel.config.decoder.min_length = 1\n",
    "ovmodel.config.no_repeat_ngram_size = 0\n",
    "ovmodel.config.repetition_penalty = 1.2\n",
    "ovmodel.config.length_penalty = 1.0 \n",
    "# ovmodel.config.early_stopping = True\n",
    "ovmodel.config.num_beams = 1\n",
    "ovmodel.config.use_cache = False  \n",
    "ovmodel.config.is_encoder_decoder = True\n",
    "ovmodel.config.do_sample = False  \n",
    "ovmodel.config.tie_word_embeddings = True\n",
    "print_trainable_prams(ovmodel)"
   ]
  },
  {
   "cell_type": "code",
   "execution_count": 11,
   "id": "506c25f8",
   "metadata": {},
   "outputs": [
    {
     "data": {
      "text/plain": [
       "1536"
      ]
     },
     "execution_count": 11,
     "metadata": {},
     "output_type": "execute_result"
    }
   ],
   "source": [
    "ovmodel.config.decoder.max_position_embeddings"
   ]
  },
  {
   "cell_type": "code",
   "execution_count": 12,
   "id": "46037f82",
   "metadata": {},
   "outputs": [
    {
     "data": {
      "text/plain": [
       "0"
      ]
     },
     "execution_count": 12,
     "metadata": {},
     "output_type": "execute_result"
    }
   ],
   "source": [
    "text_tokenizer.bos_token_id"
   ]
  },
  {
   "cell_type": "code",
   "execution_count": 13,
   "id": "d11cabfc",
   "metadata": {},
   "outputs": [
    {
     "data": {
      "text/plain": [
       "(57528, 57528)"
      ]
     },
     "execution_count": 13,
     "metadata": {},
     "output_type": "execute_result"
    }
   ],
   "source": [
    "ovmodel.config.decoder.vocab_size, len(text_tokenizer)"
   ]
  },
  {
   "cell_type": "code",
   "execution_count": 14,
   "id": "42340f98",
   "metadata": {},
   "outputs": [
    {
     "data": {
      "text/plain": [
       "1056"
      ]
     },
     "execution_count": 14,
     "metadata": {},
     "output_type": "execute_result"
    }
   ],
   "source": [
    "ovmodel.config.max_length"
   ]
  },
  {
   "cell_type": "code",
   "execution_count": 15,
   "id": "ea9a1f93",
   "metadata": {},
   "outputs": [
    {
     "name": "stdout",
     "output_type": "stream",
     "text": [
      "torch.Size([57528, 1024])\n"
     ]
    }
   ],
   "source": [
    "print(ovmodel.decoder.get_input_embeddings().weight.shape)"
   ]
  },
  {
   "cell_type": "code",
   "execution_count": 16,
   "id": "659c2c10",
   "metadata": {},
   "outputs": [
    {
     "data": {
      "text/plain": [
       "Linear(in_features=1024, out_features=57528, bias=False)"
      ]
     },
     "execution_count": 16,
     "metadata": {},
     "output_type": "execute_result"
    }
   ],
   "source": [
    "ovmodel.decoder.lm_head"
   ]
  },
  {
   "cell_type": "code",
   "execution_count": 17,
   "id": "1adb69e6",
   "metadata": {},
   "outputs": [
    {
     "name": "stderr",
     "output_type": "stream",
     "text": [
      "c:\\Users\\jaabi\\Documents\\comudel\\ocr\\func_utils\\trainer_utils.py:246: FutureWarning: `tokenizer` is deprecated and will be removed in version 5.0.0 for `Seq2SeqTrainer.__init__`. Use `processing_class` instead.\n",
      "  trainer = Seq2SeqTrainer(\n"
     ]
    }
   ],
   "source": [
    "early_stopping_callback = EarlyStoppingCallback(\n",
    "    early_stopping_patience=5, \n",
    ")\n",
    "trainer = setup_dit_bart_training(\n",
    "        train_synthdataset, val_synthdataset, training_args=training_args, model=ovmodel, text_tokenizer=text_tokenizer,\n",
    "        run_name = run_name, \n",
    "        callbacks=[early_stopping_callback],\n",
    "        max_length=max_token_size\n",
    "    )"
   ]
  },
  {
   "cell_type": "code",
   "execution_count": 18,
   "id": "f8db7756",
   "metadata": {},
   "outputs": [
    {
     "data": {
      "text/html": [
       "creating run (0.0s)"
      ],
      "text/plain": [
       "<IPython.core.display.HTML object>"
      ]
     },
     "metadata": {},
     "output_type": "display_data"
    },
    {
     "data": {
      "text/html": [
       "Tracking run with wandb version 0.21.3"
      ],
      "text/plain": [
       "<IPython.core.display.HTML object>"
      ]
     },
     "metadata": {},
     "output_type": "display_data"
    },
    {
     "data": {
      "text/html": [
       "Run data is saved locally in <code>c:\\Users\\jaabi\\Documents\\comudel\\ocr\\wandb\\run-20251004_163843-xjelt1hv</code>"
      ],
      "text/plain": [
       "<IPython.core.display.HTML object>"
      ]
     },
     "metadata": {},
     "output_type": "display_data"
    },
    {
     "data": {
      "text/html": [
       "Syncing run <strong><a href='https://wandb.ai/beasted90-comudel/huggingface/runs/xjelt1hv' target=\"_blank\">dtesting</a></strong> to <a href='https://wandb.ai/beasted90-comudel/huggingface' target=\"_blank\">Weights & Biases</a> (<a href='https://wandb.me/developer-guide' target=\"_blank\">docs</a>)<br>"
      ],
      "text/plain": [
       "<IPython.core.display.HTML object>"
      ]
     },
     "metadata": {},
     "output_type": "display_data"
    },
    {
     "data": {
      "text/html": [
       " View project at <a href='https://wandb.ai/beasted90-comudel/huggingface' target=\"_blank\">https://wandb.ai/beasted90-comudel/huggingface</a>"
      ],
      "text/plain": [
       "<IPython.core.display.HTML object>"
      ]
     },
     "metadata": {},
     "output_type": "display_data"
    },
    {
     "data": {
      "text/html": [
       " View run at <a href='https://wandb.ai/beasted90-comudel/huggingface/runs/xjelt1hv' target=\"_blank\">https://wandb.ai/beasted90-comudel/huggingface/runs/xjelt1hv</a>"
      ],
      "text/plain": [
       "<IPython.core.display.HTML object>"
      ]
     },
     "metadata": {},
     "output_type": "display_data"
    },
    {
     "name": "stderr",
     "output_type": "stream",
     "text": [
      "`loss_type=None` was set in the config but it is unrecognized. Using the default loss: `ForCausalLMLoss`.\n"
     ]
    },
    {
     "data": {
      "text/html": [
       "\n",
       "    <div>\n",
       "      \n",
       "      <progress value='48' max='160' style='width:300px; height:20px; vertical-align: middle;'></progress>\n",
       "      [ 48/160 00:59 < 02:23, 0.78 it/s, Epoch 6/20]\n",
       "    </div>\n",
       "    <table border=\"1\" class=\"dataframe\">\n",
       "  <thead>\n",
       " <tr style=\"text-align: left;\">\n",
       "      <th>Epoch</th>\n",
       "      <th>Training Loss</th>\n",
       "      <th>Validation Loss</th>\n",
       "      <th>Bleu</th>\n",
       "      <th>Pred Intersect Labels</th>\n",
       "    </tr>\n",
       "  </thead>\n",
       "  <tbody>\n",
       "    <tr>\n",
       "      <td>1</td>\n",
       "      <td>No log</td>\n",
       "      <td>7.169275</td>\n",
       "      <td>0.000000</td>\n",
       "      <td>0.150000</td>\n",
       "    </tr>\n",
       "    <tr>\n",
       "      <td>2</td>\n",
       "      <td>8.626900</td>\n",
       "      <td>7.931543</td>\n",
       "      <td>0.000000</td>\n",
       "      <td>0.400000</td>\n",
       "    </tr>\n",
       "    <tr>\n",
       "      <td>3</td>\n",
       "      <td>6.897600</td>\n",
       "      <td>7.885177</td>\n",
       "      <td>0.000000</td>\n",
       "      <td>0.166667</td>\n",
       "    </tr>\n",
       "    <tr>\n",
       "      <td>4</td>\n",
       "      <td>6.361500</td>\n",
       "      <td>8.533754</td>\n",
       "      <td>0.000000</td>\n",
       "      <td>1.000000</td>\n",
       "    </tr>\n",
       "    <tr>\n",
       "      <td>5</td>\n",
       "      <td>6.228400</td>\n",
       "      <td>8.246597</td>\n",
       "      <td>0.000000</td>\n",
       "      <td>0.250000</td>\n",
       "    </tr>\n",
       "    <tr>\n",
       "      <td>6</td>\n",
       "      <td>6.228400</td>\n",
       "      <td>8.719202</td>\n",
       "      <td>0.000000</td>\n",
       "      <td>0.200000</td>\n",
       "    </tr>\n",
       "  </tbody>\n",
       "</table><p>"
      ],
      "text/plain": [
       "<IPython.core.display.HTML object>"
      ]
     },
     "metadata": {},
     "output_type": "display_data"
    },
    {
     "name": "stdout",
     "output_type": "stream",
     "text": [
      "Evaluating ...\n",
      "GT\n",
      "ousands wir e may h ave a diff erent colo r.The Russian abacus was in use in s hops and\n",
      "\n",
      "Pred\n",
      "e the a des  andme, toees in sded oceve of emaas as tpes be nen m com dem r he\n"
     ]
    },
    {
     "name": "stderr",
     "output_type": "stream",
     "text": [
      "c:\\Users\\jaabi\\Documents\\comudel\\ocr\\venv\\Lib\\site-packages\\transformers\\modeling_utils.py:4034: UserWarning: Moving the following attributes in the config to the generation config: {'max_length': 1056, 'min_length': 1, 'repetition_penalty': 1.2}. You are seeing this warning because you've set generation parameters in the model config, as opposed to in the generation config.\n",
      "  warnings.warn(\n"
     ]
    },
    {
     "name": "stdout",
     "output_type": "stream",
     "text": [
      "Evaluating ...\n",
      "GT\n",
      "ousands wir e may h ave a diff erent colo r.The Russian abacus was in use in s hops and\n",
      "\n",
      "Pred\n",
      "o e a de,ç emsaões.\n",
      "Evaluating ...\n",
      "GT\n",
      "ousands wir e may h ave a diff erent colo r.The Russian abacus was in use in s hops and\n",
      "\n",
      "Pred\n",
      ",os de a umis ee des\n",
      "Evaluating ...\n",
      "GT\n",
      "ousands wir e may h ave a diff erent colo r.The Russian abacus was in use in s hops and\n",
      "\n",
      "Pred\n",
      "a\n",
      "Evaluating ...\n",
      "GT\n",
      "ousands wir e may h ave a diff erent colo r.The Russian abacus was in use in s hops and\n",
      "\n",
      "Pred\n",
      "o a  deas eário\n",
      "Evaluating ...\n",
      "GT\n",
      "ousands wir e may h ave a diff erent colo r.The Russian abacus was in use in s hops and\n",
      "\n",
      "Pred\n",
      ", a time thes. he\n"
     ]
    }
   ],
   "source": [
    "history = trainer.train()"
   ]
  },
  {
   "cell_type": "code",
   "execution_count": 25,
   "id": "21a2e675",
   "metadata": {},
   "outputs": [
    {
     "name": "stdout",
     "output_type": "stream",
     "text": [
      "Prediction: de a ee theses meveded,ceseo omemaspes s\n",
      "Ground Truth: nse of time passin g, time lost, and the relati onship of\n"
     ]
    }
   ],
   "source": [
    "import numpy as np \n",
    "\n",
    "ovmodel.eval()\n",
    "vind = np.random.randint(0, len(train_synthdataset))\n",
    "sample = train_synthdataset[vind]  \n",
    "inputs = sample[\"pixel_values\"].unsqueeze(0).to(ovmodel.device)\n",
    "image = sample['image']\n",
    "text = sample['text']\n",
    "output_ids = ovmodel.generate(inputs, max_length=100)\n",
    "prediction = text_tokenizer.decode(output_ids[0], skip_special_tokens=True)\n",
    "print(\"Prediction:\", prediction)\n",
    "print(\"Ground Truth:\", sample[\"text\"])"
   ]
  },
  {
   "cell_type": "code",
   "execution_count": null,
   "id": "d7c93470",
   "metadata": {},
   "outputs": [
    {
     "name": "stdout",
     "output_type": "stream",
     "text": [
      "Prediction: s a of deiing,  theify are. Africa\n",
      "Ground Truth: found in Ysterfontein on the western coast of South Africa are associated with the Middle Stone Age\n"
     ]
    }
   ],
   "source": [
    "output_ids = ovmodel.generate(inputs, max_length=100, num_beams=1)\n",
    "prediction = text_tokenizer.decode(output_ids[0], skip_special_tokens=True)\n",
    "print(\"Prediction:\", prediction)\n",
    "print(\"Ground Truth:\", sample[\"text\"])"
   ]
  },
  {
   "cell_type": "code",
   "execution_count": null,
   "id": "d0d3f5aa",
   "metadata": {},
   "outputs": [
    {
     "name": "stderr",
     "output_type": "stream",
     "text": [
      "Fetching 1 files: 100%|██████████| 1/1 [00:00<?, ?it/s]\n",
      "Using a slow image processor as `use_fast` is unset and a slow processor was saved with this model. `use_fast=True` will be the default behavior in v4.52, even if the model was saved with a slow processor. This will result in minor differences in outputs. You'll still be able to use a slow processor with `use_fast=False`.\n"
     ]
    },
    {
     "data": {
      "text/plain": [
       "'study of the Indic texts until the summer of'"
      ]
     },
     "execution_count": 21,
     "metadata": {},
     "output_type": "execute_result"
    }
   ],
   "source": [
    "from transformers import VisionEncoderDecoderModel, AutoImageProcessor\n",
    "\n",
    "processor = AutoImageProcessor.from_pretrained(\"naver-clova-ix/donut-base\")\n",
    "tmodel = VisionEncoderDecoderModel.from_pretrained(\"naver-clova-ix/donut-base\")\n",
    "tmodel.eval()\n",
    "vind = np.random.randint(0, len(train_synthdataset))\n",
    "sample = train_synthdataset[vind]  \n",
    "inputs = processor(sample['image'],return_tensors=\"pt\").pixel_values.to(tmodel.device)\n",
    "image = sample['image']\n",
    "text = sample['text']\n",
    "text"
   ]
  },
  {
   "cell_type": "code",
   "execution_count": null,
   "id": "5fd5f731",
   "metadata": {},
   "outputs": [
    {
     "data": {
      "text/plain": [
       "<matplotlib.image.AxesImage at 0x220b3a47e50>"
      ]
     },
     "execution_count": 22,
     "metadata": {},
     "output_type": "execute_result"
    },
    {
     "data": {
      "image/png": "[encoded data removed]",
      "text/plain": [
       "<Figure size 640x480 with 1 Axes>"
      ]
     },
     "metadata": {},
     "output_type": "display_data"
    }
   ],
   "source": [
    "import matplotlib.pyplot as plt \n",
    "plt.imshow(image)"
   ]
  },
  {
   "cell_type": "code",
   "execution_count": null,
   "id": "ea4e708c",
   "metadata": {},
   "outputs": [
    {
     "name": "stdout",
     "output_type": "stream",
     "text": [
      "Prediction: \n",
      "Ground Truth: study of the Indic texts until the summer of\n"
     ]
    }
   ],
   "source": [
    "output_ids = tmodel.generate(inputs, max_length=100, num_beams=6)\n",
    "prediction = text_tokenizer.decode(output_ids[0], skip_special_tokens=True)\n",
    "print(\"Prediction:\", prediction)\n",
    "print(\"Ground Truth:\", sample[\"text\"])"
   ]
  },
  {
   "cell_type": "code",
   "execution_count": null,
   "id": "75aabc90",
   "metadata": {},
   "outputs": [
    {
     "name": "stdout",
     "output_type": "stream",
     "text": [
      "Prediction: \n",
      "Ground Truth: study of the Indic texts until the summer of\n"
     ]
    }
   ],
   "source": [
    "inputs = sample[\"pixel_values\"].unsqueeze(0).to(ovmodel.device)\n",
    "output_ids = ovmodel.generate(inputs, max_length=100, num_beams=6)\n",
    "prediction = text_tokenizer.decode(output_ids[0], skip_special_tokens=True)\n",
    "print(\"Prediction:\", prediction)\n",
    "print(\"Ground Truth:\", sample[\"text\"])"
   ]
  },
  {
   "cell_type": "code",
   "execution_count": null,
   "id": "3f8ae205",
   "metadata": {},
   "outputs": [],
   "source": []
  }
 ],
 "metadata": {
  "kernelspec": {
   "display_name": "venv",
   "language": "python",
   "name": "python3"
  },
  "language_info": {
   "codemirror_mode": {
    "name": "ipython",
    "version": 3
   },
   "file_extension": ".py",
   "mimetype": "text/x-python",
   "name": "python",
   "nbconvert_exporter": "python",
   "pygments_lexer": "ipython3",
   "version": "3.11.9"
  }
 },
 "nbformat": 4,
 "nbformat_minor": 5
}
