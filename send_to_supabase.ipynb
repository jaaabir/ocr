{
 "cells": [
  {
   "cell_type": "code",
   "execution_count": 24,
   "id": "256761ed",
   "metadata": {},
   "outputs": [
    {
     "data": {
      "text/plain": [
       "True"
      ]
     },
     "execution_count": 24,
     "metadata": {},
     "output_type": "execute_result"
    }
   ],
   "source": [
    "import os \n",
    "import dotenv\n",
    "from glob import glob\n",
    "import httpx\n",
    "\n",
    "dotenv.load_dotenv()"
   ]
  },
  {
   "cell_type": "code",
   "execution_count": 25,
   "id": "06965e37",
   "metadata": {},
   "outputs": [],
   "source": [
    "api_key = os.environ['COMU_SUPABASE_API_KEY']\n",
    "proj_url = os.environ['COMU_SUPABASE_URL']\n",
    "bucket_name = os.environ['COMU_BUCKET_NAME']"
   ]
  },
  {
   "cell_type": "code",
   "execution_count": null,
   "id": "4ab89188",
   "metadata": {},
   "outputs": [],
   "source": [
    "from supabase import create_client, ClientOptions, Client\n",
    "import json\n",
    "\n",
    "def init_supabase(url: str, key: str) -> Client:\n",
    "    \"\"\"\n",
    "    Initialize Supabase client.\n",
    "    \"\"\"\n",
    "    supabase: Client = create_client(url, key, options=ClientOptions(\n",
    "        httpx_client=httpx.Client(timeout=httpx.Timeout(180.0))\n",
    "    ))\n",
    "    return supabase"
   ]
  },
  {
   "cell_type": "code",
   "execution_count": 31,
   "id": "bd2add60",
   "metadata": {},
   "outputs": [
    {
     "data": {
      "text/plain": [
       "<supabase._sync.client.SyncClient at 0x1851338f510>"
      ]
     },
     "execution_count": 31,
     "metadata": {},
     "output_type": "execute_result"
    }
   ],
   "source": [
    "supabase = init_supabase(proj_url, api_key)\n",
    "supabase"
   ]
  },
  {
   "cell_type": "code",
   "execution_count": 41,
   "id": "57c8c250",
   "metadata": {},
   "outputs": [
    {
     "data": {
      "text/plain": [
       "[{'name': 'SynthDog_en',\n",
       "  'id': None,\n",
       "  'updated_at': None,\n",
       "  'created_at': None,\n",
       "  'last_accessed_at': None,\n",
       "  'metadata': None},\n",
       " {'name': 'SynthDog_pt',\n",
       "  'id': None,\n",
       "  'updated_at': None,\n",
       "  'created_at': None,\n",
       "  'last_accessed_at': None,\n",
       "  'metadata': None}]"
      ]
     },
     "execution_count": 41,
     "metadata": {},
     "output_type": "execute_result"
    }
   ],
   "source": [
    "supabase.storage.from_(bucket_name).list('', {'limit':1000})"
   ]
  },
  {
   "cell_type": "code",
   "execution_count": 42,
   "id": "da9c4bb7",
   "metadata": {},
   "outputs": [],
   "source": [
    "get_filename = lambda x: os.path.splitext(os.path.basename(x))[0]\n",
    "get_language = lambda x : x.split('\\\\')[2].split('_')[-1]\n",
    "get_files_from_storage = lambda bucket_name, path, limit=100: [i['name'] for i in supabase.storage.from_(bucket_name).list(path, {'limit':limit})]\n",
    "\n",
    "def read_file(local_path):\n",
    "    with open(local_path, \"rb\") as f:\n",
    "        file_bytes = f.read()\n",
    "    return file_bytes\n",
    "\n",
    "def upload_image(bucket: str, local_path: str, storage_path: str) -> str:\n",
    "    \"\"\"\n",
    "    Upload a local image file to Supabase Storage bucket.\n",
    "    Returns the public URL.\n",
    "    \"\"\"\n",
    "    file_bytes = read_file(local_path)\n",
    "    \n",
    "    # Upload to bucket\n",
    "    supabase.storage.from_(bucket).upload(\n",
    "        storage_path, \n",
    "        file_bytes, \n",
    "        file_options={\"content-type\": \"image/jpeg\",\"upsert\": \"true\"})\n",
    "    \n",
    "    return True\n",
    "\n",
    "\n",
    "from tqdm import tqdm\n",
    "\n",
    "def upload_images_batch(bucket: str, file_paths: list[str], return_metadata = True, split = 'train') -> dict:\n",
    "    \"\"\"\n",
    "    Upload multiple images and return dict {filename: url}\n",
    "    \"\"\"\n",
    "    results = []\n",
    "    en_files = set(get_files_from_storage(bucket_name, f'SynthDog_en/{split}', 21000))\n",
    "    pt_files = set(get_files_from_storage(bucket_name, f'SynthDog_pt/{split}', 21000))\n",
    "    for ind, path in tqdm(enumerate(file_paths), desc=f'Uploading to supabase storage bucket {bucket} ...', total=len(file_paths)):\n",
    "        filename = os.path.basename(path)\n",
    "        lang = get_language(path)\n",
    "\n",
    "        if lang == 'en':\n",
    "            if filename in en_files:\n",
    "                continue\n",
    "        elif lang == 'pt':\n",
    "            if filename in pt_files:\n",
    "                continue\n",
    "\n",
    "        root_path = f\"SynthDog_{lang}/{split}\"\n",
    "        filepath = f\"{root_path}/{filename}\"\n",
    "        if upload_image(bucket, path, filepath):\n",
    "            results.append(filepath)\n",
    "    print(f'Uploaded {ind+1} images to supabase storage bucket ...')\n",
    "    if return_metadata:\n",
    "        return results\n",
    "    \n",
    "    "
   ]
  },
  {
   "cell_type": "code",
   "execution_count": 43,
   "id": "2bfe2a3e",
   "metadata": {},
   "outputs": [],
   "source": [
    "def get_synth_images_json_path(data_root= os.path.join('synthdog','outputs'), split='train'):\n",
    "    ipath = os.path.join(data_root, '*', split, '*.jpg')\n",
    "    json_path = os.path.join(data_root, '*', split, 'metadata.jsonl')\n",
    "\n",
    "    return glob(ipath), glob(json_path)"
   ]
  },
  {
   "cell_type": "code",
   "execution_count": 44,
   "id": "4cb7cbc7",
   "metadata": {},
   "outputs": [],
   "source": [
    "root_path = os.path.join('synthdog', 'outputs_ol')\n",
    "train_ipath, train_json_metadata = get_synth_images_json_path(data_root=root_path, split='train')\n",
    "val_ipath, val_json_metadata = get_synth_images_json_path(data_root=root_path, split='validation')\n",
    "test_ipath, test_json_metadata = get_synth_images_json_path(data_root=root_path, split='test')"
   ]
  },
  {
   "cell_type": "code",
   "execution_count": 45,
   "id": "2b1216c0",
   "metadata": {},
   "outputs": [
    {
     "data": {
      "text/plain": [
       "32011"
      ]
     },
     "execution_count": 45,
     "metadata": {},
     "output_type": "execute_result"
    }
   ],
   "source": [
    "len(train_ipath)"
   ]
  },
  {
   "cell_type": "code",
   "execution_count": 49,
   "id": "bbcbb697",
   "metadata": {},
   "outputs": [
    {
     "name": "stderr",
     "output_type": "stream",
     "text": [
      "Uploading to supabase storage bucket synthdog ...: 100%|██████████| 32011/32011 [01:42<00:00, 311.06it/s]   "
     ]
    },
    {
     "name": "stdout",
     "output_type": "stream",
     "text": [
      "Uploaded 32011 images to supabase storage bucket ...\n"
     ]
    },
    {
     "name": "stderr",
     "output_type": "stream",
     "text": [
      "\n"
     ]
    }
   ],
   "source": [
    "upload_images_batch(bucket_name, train_ipath, False, 'train',)"
   ]
  },
  {
   "cell_type": "code",
   "execution_count": 51,
   "id": "334503f6",
   "metadata": {},
   "outputs": [
    {
     "name": "stderr",
     "output_type": "stream",
     "text": [
      "Uploading to supabase storage bucket synthdog ...: 100%|██████████| 4008/4008 [07:52<00:00,  8.49it/s]  "
     ]
    },
    {
     "name": "stdout",
     "output_type": "stream",
     "text": [
      "Uploaded 4008 images to supabase storage bucket ...\n"
     ]
    },
    {
     "name": "stderr",
     "output_type": "stream",
     "text": [
      "\n"
     ]
    }
   ],
   "source": [
    "upload_images_batch(bucket_name, val_ipath, False, 'validation')"
   ]
  },
  {
   "cell_type": "code",
   "execution_count": 52,
   "id": "ee0544e5",
   "metadata": {},
   "outputs": [
    {
     "name": "stderr",
     "output_type": "stream",
     "text": [
      "Uploading to supabase storage bucket synthdog ...: 100%|██████████| 3978/3978 [14:40<00:00,  4.52it/s]"
     ]
    },
    {
     "name": "stdout",
     "output_type": "stream",
     "text": [
      "Uploaded 3978 images to supabase storage bucket ...\n"
     ]
    },
    {
     "name": "stderr",
     "output_type": "stream",
     "text": [
      "\n"
     ]
    }
   ],
   "source": [
    "upload_images_batch(bucket_name, test_ipath, False, 'test')"
   ]
  },
  {
   "cell_type": "code",
   "execution_count": null,
   "id": "a1287f6d",
   "metadata": {},
   "outputs": [],
   "source": [
    "import pypickle\n",
    "\n",
    "def save_pickle(data, filename):\n",
    "    pypickle.save(data, filename)\n",
    "    print(f\"✅ Saved pickle to: {filename}\")\n",
    "\n",
    "def load_pickle(fname):\n",
    "    return pypickle.load(fname)\n"
   ]
  }
 ],
 "metadata": {
  "kernelspec": {
   "display_name": "venv",
   "language": "python",
   "name": "python3"
  },
  "language_info": {
   "codemirror_mode": {
    "name": "ipython",
    "version": 3
   },
   "file_extension": ".py",
   "mimetype": "text/x-python",
   "name": "python",
   "nbconvert_exporter": "python",
   "pygments_lexer": "ipython3",
   "version": "3.11.9"
  }
 },
 "nbformat": 4,
 "nbformat_minor": 5
}
